{
 "cells": [
  {
   "cell_type": "code",
   "execution_count": 1,
   "id": "06d100fc-9c03-49fa-92bd-52369918ac27",
   "metadata": {},
   "outputs": [],
   "source": [
    "import pandas as pd\n",
    "import numpy as np\n",
    "\n",
    "import itertools\n",
    "import math\n",
    "\n",
    "# from sklearn.model_selection import train_test_split\n",
    "from sklearn.metrics.pairwise import cosine_similarity, euclidean_distances, manhattan_distances\n",
    "from sklearn.preprocessing import MinMaxScaler, StandardScaler\n",
    "from sklearn.decomposition import PCA\n",
    "\n",
    "from surprise import SVDpp, Dataset, Reader\n",
    "from surprise.model_selection import train_test_split, GridSearchCV\n",
    "from surprise import accuracy\n",
    "\n",
    "import warnings\n",
    "warnings.filterwarnings(\"ignore\")"
   ]
  },
  {
   "cell_type": "code",
   "execution_count": 2,
   "id": "6d362c19-57ac-4c71-8bc9-c2681ce67e1c",
   "metadata": {},
   "outputs": [
    {
     "name": "stdout",
     "output_type": "stream",
     "text": [
      "<class 'pandas.core.frame.DataFrame'>\n",
      "RangeIndex: 5487 entries, 0 to 5486\n",
      "Data columns (total 5 columns):\n",
      " #   Column         Non-Null Count  Dtype \n",
      "---  ------         --------------  ----- \n",
      " 0   Order          5487 non-null   int64 \n",
      " 1   SKU            5487 non-null   int64 \n",
      " 2   Member         5487 non-null   object\n",
      " 3   Delivery Date  5487 non-null   object\n",
      " 4   Name           5487 non-null   object\n",
      "dtypes: int64(2), object(3)\n",
      "memory usage: 214.5+ KB\n"
     ]
    }
   ],
   "source": [
    "test_data = pd.read_csv('last_orders_subset.csv')\n",
    "test_data.info()"
   ]
  },
  {
   "cell_type": "code",
   "execution_count": 3,
   "id": "140b763b-ec94-456a-a18e-689493a1505b",
   "metadata": {},
   "outputs": [
    {
     "name": "stdout",
     "output_type": "stream",
     "text": [
      "<class 'pandas.core.frame.DataFrame'>\n",
      "RangeIndex: 28984 entries, 0 to 28983\n",
      "Data columns (total 5 columns):\n",
      " #   Column         Non-Null Count  Dtype \n",
      "---  ------         --------------  ----- \n",
      " 0   Order          28984 non-null  int64 \n",
      " 1   SKU            28984 non-null  int64 \n",
      " 2   Member         28984 non-null  object\n",
      " 3   Delivery Date  28984 non-null  object\n",
      " 4   Name           28984 non-null  object\n",
      "dtypes: int64(2), object(3)\n",
      "memory usage: 1.1+ MB\n"
     ]
    }
   ],
   "source": [
    "df = pd.read_csv('all_except_last_orders.csv')\n",
    "df.info()"
   ]
  },
  {
   "cell_type": "code",
   "execution_count": 4,
   "id": "517228d4-d469-43f5-99b3-ea8105fa5ef5",
   "metadata": {},
   "outputs": [],
   "source": [
    "df['Delivery Date'] = pd.to_datetime(df['Delivery Date'], dayfirst = True)"
   ]
  },
  {
   "cell_type": "markdown",
   "id": "0bbcece7-e58c-4366-96f7-a682b8fb8093",
   "metadata": {},
   "source": [
    "## Build Matrix Factorization Model"
   ]
  },
  {
   "cell_type": "code",
   "execution_count": 5,
   "id": "234aa05d-3d35-458b-a6ec-d28ef0af59a2",
   "metadata": {},
   "outputs": [
    {
     "data": {
      "text/html": [
       "<div>\n",
       "<style scoped>\n",
       "    .dataframe tbody tr th:only-of-type {\n",
       "        vertical-align: middle;\n",
       "    }\n",
       "\n",
       "    .dataframe tbody tr th {\n",
       "        vertical-align: top;\n",
       "    }\n",
       "\n",
       "    .dataframe thead th {\n",
       "        text-align: right;\n",
       "    }\n",
       "</style>\n",
       "<table border=\"1\" class=\"dataframe\">\n",
       "  <thead>\n",
       "    <tr style=\"text-align: right;\">\n",
       "      <th></th>\n",
       "      <th>Order</th>\n",
       "      <th>SKU</th>\n",
       "      <th>Member</th>\n",
       "      <th>Delivery Date</th>\n",
       "      <th>Name</th>\n",
       "    </tr>\n",
       "  </thead>\n",
       "  <tbody>\n",
       "    <tr>\n",
       "      <th>0</th>\n",
       "      <td>8358896</td>\n",
       "      <td>15668375</td>\n",
       "      <td>SSCEHNS</td>\n",
       "      <td>2013-11-02</td>\n",
       "      <td>Root Vegetables</td>\n",
       "    </tr>\n",
       "    <tr>\n",
       "      <th>1</th>\n",
       "      <td>8358896</td>\n",
       "      <td>15668467</td>\n",
       "      <td>SSCEHNS</td>\n",
       "      <td>2013-11-02</td>\n",
       "      <td>Beans</td>\n",
       "    </tr>\n",
       "    <tr>\n",
       "      <th>2</th>\n",
       "      <td>8358896</td>\n",
       "      <td>15669863</td>\n",
       "      <td>SSCEHNS</td>\n",
       "      <td>2013-11-02</td>\n",
       "      <td>Moong Dal</td>\n",
       "    </tr>\n",
       "    <tr>\n",
       "      <th>3</th>\n",
       "      <td>8358896</td>\n",
       "      <td>15669778</td>\n",
       "      <td>SSCEHNS</td>\n",
       "      <td>2013-11-02</td>\n",
       "      <td>Other Dals</td>\n",
       "    </tr>\n",
       "    <tr>\n",
       "      <th>4</th>\n",
       "      <td>8358896</td>\n",
       "      <td>15669767</td>\n",
       "      <td>SSCEHNS</td>\n",
       "      <td>2013-11-02</td>\n",
       "      <td>Urad Dal</td>\n",
       "    </tr>\n",
       "  </tbody>\n",
       "</table>\n",
       "</div>"
      ],
      "text/plain": [
       "     Order       SKU   Member Delivery Date             Name\n",
       "0  8358896  15668375  SSCEHNS    2013-11-02  Root Vegetables\n",
       "1  8358896  15668467  SSCEHNS    2013-11-02            Beans\n",
       "2  8358896  15669863  SSCEHNS    2013-11-02        Moong Dal\n",
       "3  8358896  15669778  SSCEHNS    2013-11-02       Other Dals\n",
       "4  8358896  15669767  SSCEHNS    2013-11-02         Urad Dal"
      ]
     },
     "execution_count": 5,
     "metadata": {},
     "output_type": "execute_result"
    }
   ],
   "source": [
    "df_train = pd.read_csv(\"df_train.csv\")\n",
    "df_train.head()"
   ]
  },
  {
   "cell_type": "code",
   "execution_count": 6,
   "id": "629267c7-3485-4621-a8c2-3ffb91af81c7",
   "metadata": {},
   "outputs": [
    {
     "data": {
      "text/html": [
       "<div>\n",
       "<style scoped>\n",
       "    .dataframe tbody tr th:only-of-type {\n",
       "        vertical-align: middle;\n",
       "    }\n",
       "\n",
       "    .dataframe tbody tr th {\n",
       "        vertical-align: top;\n",
       "    }\n",
       "\n",
       "    .dataframe thead th {\n",
       "        text-align: right;\n",
       "    }\n",
       "</style>\n",
       "<table border=\"1\" class=\"dataframe\">\n",
       "  <thead>\n",
       "    <tr style=\"text-align: right;\">\n",
       "      <th></th>\n",
       "      <th>Member</th>\n",
       "      <th>SKU</th>\n",
       "      <th>frequency</th>\n",
       "    </tr>\n",
       "  </thead>\n",
       "  <tbody>\n",
       "    <tr>\n",
       "      <th>2</th>\n",
       "      <td>SSCEHNS</td>\n",
       "      <td>7580823</td>\n",
       "      <td>7</td>\n",
       "    </tr>\n",
       "    <tr>\n",
       "      <th>8</th>\n",
       "      <td>SSCEHNS</td>\n",
       "      <td>15668377</td>\n",
       "      <td>6</td>\n",
       "    </tr>\n",
       "    <tr>\n",
       "      <th>20</th>\n",
       "      <td>SSCEHNS</td>\n",
       "      <td>15669772</td>\n",
       "      <td>6</td>\n",
       "    </tr>\n",
       "    <tr>\n",
       "      <th>32</th>\n",
       "      <td>SSCEHNS</td>\n",
       "      <td>15669865</td>\n",
       "      <td>6</td>\n",
       "    </tr>\n",
       "    <tr>\n",
       "      <th>7</th>\n",
       "      <td>SSCEHNS</td>\n",
       "      <td>15668375</td>\n",
       "      <td>5</td>\n",
       "    </tr>\n",
       "  </tbody>\n",
       "</table>\n",
       "</div>"
      ],
      "text/plain": [
       "     Member       SKU  frequency\n",
       "2   SSCEHNS   7580823          7\n",
       "8   SSCEHNS  15668377          6\n",
       "20  SSCEHNS  15669772          6\n",
       "32  SSCEHNS  15669865          6\n",
       "7   SSCEHNS  15668375          5"
      ]
     },
     "execution_count": 6,
     "metadata": {},
     "output_type": "execute_result"
    }
   ],
   "source": [
    "sku_freq_df = df_train[[\"Member\", \"SKU\"]].groupby([\"Member\", \"SKU\"]) \\\n",
    "                .size() \\\n",
    "                .reset_index(name='frequency') \\\n",
    "                .sort_values(by = [\"Member\", \"frequency\"], ascending = [True, False])\n",
    "\n",
    "sku_freq_df.head()"
   ]
  },
  {
   "cell_type": "code",
   "execution_count": 7,
   "id": "52401151-c546-4874-9577-3b7a6377d16c",
   "metadata": {},
   "outputs": [
    {
     "data": {
      "text/plain": [
       "<surprise.dataset.DatasetAutoFolds at 0x138c0a6d0>"
      ]
     },
     "execution_count": 7,
     "metadata": {},
     "output_type": "execute_result"
    }
   ],
   "source": [
    "reader = Reader() #rating_scale=(1, 14))\n",
    "data = Dataset.load_from_df(sku_freq_df[['Member', 'SKU', 'frequency']], reader)\n",
    "data"
   ]
  },
  {
   "cell_type": "code",
   "execution_count": 8,
   "id": "927bbc2f-4d15-4b8c-a5df-590cd01bbefe",
   "metadata": {},
   "outputs": [],
   "source": [
    "trainset = data.build_full_trainset()"
   ]
  },
  {
   "cell_type": "code",
   "execution_count": 26,
   "id": "ef71f61c-e3d3-4503-a474-1f2dcc33f39f",
   "metadata": {},
   "outputs": [],
   "source": [
    "param_grid = {\n",
    "    'n_factors': [50, 100, 150, 200],\n",
    "    'n_epochs': [20, 50, 100, 200],\n",
    "    'lr_all': [0.05, 0.007, 0.01],\n",
    "    'reg_all': [0.02, 0.06, 0.1, 0.15]\n",
    "}"
   ]
  },
  {
   "cell_type": "code",
   "execution_count": 27,
   "id": "c7635266-5710-4171-89c4-aaa5b329a550",
   "metadata": {},
   "outputs": [
    {
     "name": "stderr",
     "output_type": "stream",
     "text": [
      "[Parallel(n_jobs=-1)]: Using backend LokyBackend with 11 concurrent workers.\n",
      "[Parallel(n_jobs=-1)]: Done  28 tasks      | elapsed:    1.6s\n",
      "[Parallel(n_jobs=-1)]: Done 178 tasks      | elapsed:   22.5s\n",
      "[Parallel(n_jobs=-1)]: Done 428 tasks      | elapsed:  1.6min\n",
      "[Parallel(n_jobs=-1)]: Done 778 tasks      | elapsed:  4.5min\n"
     ]
    },
    {
     "name": "stdout",
     "output_type": "stream",
     "text": [
      "CPU times: user 7.66 s, sys: 812 ms, total: 8.47 s\n",
      "Wall time: 7min 7s\n"
     ]
    },
    {
     "name": "stderr",
     "output_type": "stream",
     "text": [
      "[Parallel(n_jobs=-1)]: Done 960 out of 960 | elapsed:  7.1min finished\n"
     ]
    }
   ],
   "source": [
    "%%time\n",
    "\n",
    "gs = GridSearchCV(\n",
    "            SVDpp\n",
    "            , param_grid = param_grid\n",
    "            , measures = ['fcp']\n",
    "            , cv = 5\n",
    "            , n_jobs = -1\n",
    "            , joblib_verbose = 1\n",
    "        )\n",
    "\n",
    "gs.fit(data)"
   ]
  },
  {
   "cell_type": "code",
   "execution_count": 28,
   "id": "6fb31620-51d3-4c21-893f-5e17715cadd1",
   "metadata": {},
   "outputs": [
    {
     "name": "stdout",
     "output_type": "stream",
     "text": [
      "Best FCP Score: 0.6075844925365755\n",
      "Best Params: {'n_factors': 200, 'n_epochs': 20, 'lr_all': 0.007, 'reg_all': 0.15}\n"
     ]
    }
   ],
   "source": [
    "print(\"Best FCP Score:\", gs.best_score['fcp'])\n",
    "print(\"Best Params:\", gs.best_params['fcp'])"
   ]
  },
  {
   "cell_type": "code",
   "execution_count": 29,
   "id": "f5c3d030-5e41-45f5-b5de-73a32be372fc",
   "metadata": {},
   "outputs": [
    {
     "data": {
      "text/plain": [
       "<surprise.prediction_algorithms.matrix_factorization.SVDpp at 0x13fd93a50>"
      ]
     },
     "execution_count": 29,
     "metadata": {},
     "output_type": "execute_result"
    }
   ],
   "source": [
    "model = gs.best_estimator['fcp']\n",
    "model.fit(trainset)"
   ]
  },
  {
   "cell_type": "markdown",
   "id": "29d8396a-e0ff-400f-bfa7-6ebdb83d0093",
   "metadata": {},
   "source": [
    "## Test on df_test"
   ]
  },
  {
   "cell_type": "code",
   "execution_count": 30,
   "id": "b8377fb1-62af-409e-836e-319864edf9cc",
   "metadata": {},
   "outputs": [
    {
     "data": {
      "text/plain": [
       "632"
      ]
     },
     "execution_count": 30,
     "metadata": {},
     "output_type": "execute_result"
    }
   ],
   "source": [
    "sku_list = list(df_train[\"SKU\"].unique())\n",
    "len(sku_list)"
   ]
  },
  {
   "cell_type": "code",
   "execution_count": 31,
   "id": "b74dacb0-4e7c-4567-a81c-4c5b6a4035ea",
   "metadata": {},
   "outputs": [],
   "source": [
    "test_basket_df = pd.read_csv(\"test_basket_df.csv\")"
   ]
  },
  {
   "cell_type": "code",
   "execution_count": 32,
   "id": "34ecd593-94f5-47bb-b325-51ecf2e02ae4",
   "metadata": {},
   "outputs": [
    {
     "data": {
      "text/html": [
       "<div>\n",
       "<style scoped>\n",
       "    .dataframe tbody tr th:only-of-type {\n",
       "        vertical-align: middle;\n",
       "    }\n",
       "\n",
       "    .dataframe tbody tr th {\n",
       "        vertical-align: top;\n",
       "    }\n",
       "\n",
       "    .dataframe thead th {\n",
       "        text-align: right;\n",
       "    }\n",
       "</style>\n",
       "<table border=\"1\" class=\"dataframe\">\n",
       "  <thead>\n",
       "    <tr style=\"text-align: right;\">\n",
       "      <th></th>\n",
       "      <th>Order</th>\n",
       "      <th>SKU</th>\n",
       "      <th>Member</th>\n",
       "      <th>Delivery Date</th>\n",
       "      <th>Name</th>\n",
       "    </tr>\n",
       "  </thead>\n",
       "  <tbody>\n",
       "    <tr>\n",
       "      <th>620</th>\n",
       "      <td>7374967</td>\n",
       "      <td>15669760</td>\n",
       "      <td>SWHZENC</td>\n",
       "      <td>2013-09-24</td>\n",
       "      <td>Whole Spices</td>\n",
       "    </tr>\n",
       "    <tr>\n",
       "      <th>621</th>\n",
       "      <td>7374967</td>\n",
       "      <td>15668466</td>\n",
       "      <td>SWHZENC</td>\n",
       "      <td>2013-09-24</td>\n",
       "      <td>Root Vegetables</td>\n",
       "    </tr>\n",
       "    <tr>\n",
       "      <th>622</th>\n",
       "      <td>7374967</td>\n",
       "      <td>15669778</td>\n",
       "      <td>SWHZENC</td>\n",
       "      <td>2013-09-24</td>\n",
       "      <td>Other Dals</td>\n",
       "    </tr>\n",
       "    <tr>\n",
       "      <th>623</th>\n",
       "      <td>7374967</td>\n",
       "      <td>15668462</td>\n",
       "      <td>SWHZENC</td>\n",
       "      <td>2013-09-24</td>\n",
       "      <td>Gourd &amp; Cucumber</td>\n",
       "    </tr>\n",
       "    <tr>\n",
       "      <th>624</th>\n",
       "      <td>7374967</td>\n",
       "      <td>15669866</td>\n",
       "      <td>SWHZENC</td>\n",
       "      <td>2013-09-24</td>\n",
       "      <td>Other Dals</td>\n",
       "    </tr>\n",
       "    <tr>\n",
       "      <th>625</th>\n",
       "      <td>7374967</td>\n",
       "      <td>15669869</td>\n",
       "      <td>SWHZENC</td>\n",
       "      <td>2013-09-24</td>\n",
       "      <td>Moong Dal</td>\n",
       "    </tr>\n",
       "    <tr>\n",
       "      <th>626</th>\n",
       "      <td>7374967</td>\n",
       "      <td>15668688</td>\n",
       "      <td>SWHZENC</td>\n",
       "      <td>2013-09-24</td>\n",
       "      <td>Root Vegetables</td>\n",
       "    </tr>\n",
       "    <tr>\n",
       "      <th>627</th>\n",
       "      <td>7374967</td>\n",
       "      <td>93174226</td>\n",
       "      <td>SWHZENC</td>\n",
       "      <td>2013-09-24</td>\n",
       "      <td>Body Wash</td>\n",
       "    </tr>\n",
       "  </tbody>\n",
       "</table>\n",
       "</div>"
      ],
      "text/plain": [
       "       Order       SKU   Member Delivery Date              Name\n",
       "620  7374967  15669760  SWHZENC    2013-09-24      Whole Spices\n",
       "621  7374967  15668466  SWHZENC    2013-09-24   Root Vegetables\n",
       "622  7374967  15669778  SWHZENC    2013-09-24        Other Dals\n",
       "623  7374967  15668462  SWHZENC    2013-09-24  Gourd & Cucumber\n",
       "624  7374967  15669866  SWHZENC    2013-09-24        Other Dals\n",
       "625  7374967  15669869  SWHZENC    2013-09-24         Moong Dal\n",
       "626  7374967  15668688  SWHZENC    2013-09-24   Root Vegetables\n",
       "627  7374967  93174226  SWHZENC    2013-09-24         Body Wash"
      ]
     },
     "execution_count": 32,
     "metadata": {},
     "output_type": "execute_result"
    }
   ],
   "source": [
    "test_order = 7374967\n",
    "test_order_df = test_basket_df[test_basket_df[\"Order\"] == test_order]\n",
    "test_order_df"
   ]
  },
  {
   "cell_type": "code",
   "execution_count": 33,
   "id": "8f554a59-1e25-4b01-81b5-ae0fdd3a11f7",
   "metadata": {},
   "outputs": [
    {
     "data": {
      "text/plain": [
       "'SWHZENC'"
      ]
     },
     "execution_count": 33,
     "metadata": {},
     "output_type": "execute_result"
    }
   ],
   "source": [
    "test_member = test_order_df[\"Member\"].unique()[0]\n",
    "test_member"
   ]
  },
  {
   "cell_type": "code",
   "execution_count": 34,
   "id": "c81d5a39-2180-41f6-b0c1-8f78c0aecabb",
   "metadata": {},
   "outputs": [
    {
     "name": "stdout",
     "output_type": "stream",
     "text": [
      "{15669760, 15669866, 15669869, 15668462, 15668688, 15668466, 15669778, 93174226}\n"
     ]
    }
   ],
   "source": [
    "test_order_skus = set(test_order_df[\"SKU\"])\n",
    "print(test_order_skus)"
   ]
  },
  {
   "cell_type": "code",
   "execution_count": 35,
   "id": "388d1f6d-bedb-4bb4-98fb-e5f7aa729e50",
   "metadata": {},
   "outputs": [
    {
     "name": "stdout",
     "output_type": "stream",
     "text": [
      "624\n"
     ]
    }
   ],
   "source": [
    "sku_pred_list = list(set(sku_list) - test_order_skus)\n",
    "print(len(sku_pred_list))"
   ]
  },
  {
   "cell_type": "code",
   "execution_count": 36,
   "id": "75645482-4734-45aa-980a-9a0654338805",
   "metadata": {},
   "outputs": [],
   "source": [
    "pred_value_list = list()\n",
    "\n",
    "for sku in sku_pred_list:\n",
    "    prediction = model.predict(uid = test_member, iid = sku)\n",
    "    pred_value_list.append(prediction.est)\n",
    "\n",
    "test_pred_df = pd.DataFrame({\"SKU\": sku_pred_list, \"prediction\": pred_value_list})"
   ]
  },
  {
   "cell_type": "code",
   "execution_count": 37,
   "id": "4e8f5c1c-1063-4f82-a748-ec4c16b06123",
   "metadata": {},
   "outputs": [
    {
     "data": {
      "text/html": [
       "<div>\n",
       "<style scoped>\n",
       "    .dataframe tbody tr th:only-of-type {\n",
       "        vertical-align: middle;\n",
       "    }\n",
       "\n",
       "    .dataframe tbody tr th {\n",
       "        vertical-align: top;\n",
       "    }\n",
       "\n",
       "    .dataframe thead th {\n",
       "        text-align: right;\n",
       "    }\n",
       "</style>\n",
       "<table border=\"1\" class=\"dataframe\">\n",
       "  <thead>\n",
       "    <tr style=\"text-align: right;\">\n",
       "      <th></th>\n",
       "      <th>SKU</th>\n",
       "      <th>prediction</th>\n",
       "    </tr>\n",
       "  </thead>\n",
       "  <tbody>\n",
       "    <tr>\n",
       "      <th>444</th>\n",
       "      <td>15668460</td>\n",
       "      <td>2.471290</td>\n",
       "    </tr>\n",
       "    <tr>\n",
       "      <th>443</th>\n",
       "      <td>15668458</td>\n",
       "      <td>2.346232</td>\n",
       "    </tr>\n",
       "    <tr>\n",
       "      <th>406</th>\n",
       "      <td>7689353</td>\n",
       "      <td>2.289285</td>\n",
       "    </tr>\n",
       "    <tr>\n",
       "      <th>355</th>\n",
       "      <td>7590864</td>\n",
       "      <td>2.143011</td>\n",
       "    </tr>\n",
       "    <tr>\n",
       "      <th>413</th>\n",
       "      <td>15668378</td>\n",
       "      <td>2.141776</td>\n",
       "    </tr>\n",
       "  </tbody>\n",
       "</table>\n",
       "</div>"
      ],
      "text/plain": [
       "          SKU  prediction\n",
       "444  15668460    2.471290\n",
       "443  15668458    2.346232\n",
       "406   7689353    2.289285\n",
       "355   7590864    2.143011\n",
       "413  15668378    2.141776"
      ]
     },
     "execution_count": 37,
     "metadata": {},
     "output_type": "execute_result"
    }
   ],
   "source": [
    "test_recc = test_pred_df.sort_values(\"prediction\", ascending = False).iloc[:5]\n",
    "test_recc"
   ]
  },
  {
   "cell_type": "code",
   "execution_count": 38,
   "id": "767e1765-170a-48ee-b840-d4c83f4f022f",
   "metadata": {},
   "outputs": [],
   "source": [
    "sku_list = list(df_train[\"SKU\"].unique())\n",
    "recc_df = pd.DataFrame()\n",
    "\n",
    "for test_order in test_basket_df[\"Order\"].unique():\n",
    "    test_order_df = test_basket_df[test_basket_df[\"Order\"] == test_order]\n",
    "    test_member = test_order_df[\"Member\"].unique()[0]\n",
    "    test_order_skus = set(test_order_df[\"SKU\"])\n",
    "    \n",
    "    sku_pred_list = list(set(sku_list) - test_order_skus)\n",
    "\n",
    "    pred_value_list = list()\n",
    "\n",
    "    for sku in sku_pred_list:\n",
    "        prediction = model.predict(uid = test_member, iid = sku)\n",
    "        pred_value_list.append(prediction.est)\n",
    "    \n",
    "    test_pred_df = pd.DataFrame({\"SKU\": sku_pred_list, \"prediction\": pred_value_list})\n",
    "    test_recc = test_pred_df.sort_values(\"prediction\", ascending = False).iloc[:5]\n",
    "    test_recc[\"Order\"] = test_order\n",
    "    test_recc[\"Member\"] = test_member\n",
    "    test_recc = test_recc[[\"Order\", \"SKU\", \"Member\"]]\n",
    "\n",
    "    recc_df = pd.concat([recc_df, test_recc], ignore_index = True)"
   ]
  },
  {
   "cell_type": "code",
   "execution_count": 39,
   "id": "ab2bbc0b-ef75-4154-8972-20ee96ec07ce",
   "metadata": {},
   "outputs": [
    {
     "data": {
      "text/html": [
       "<div>\n",
       "<style scoped>\n",
       "    .dataframe tbody tr th:only-of-type {\n",
       "        vertical-align: middle;\n",
       "    }\n",
       "\n",
       "    .dataframe tbody tr th {\n",
       "        vertical-align: top;\n",
       "    }\n",
       "\n",
       "    .dataframe thead th {\n",
       "        text-align: right;\n",
       "    }\n",
       "</style>\n",
       "<table border=\"1\" class=\"dataframe\">\n",
       "  <thead>\n",
       "    <tr style=\"text-align: right;\">\n",
       "      <th></th>\n",
       "      <th>Order</th>\n",
       "      <th>SKU</th>\n",
       "      <th>Member</th>\n",
       "    </tr>\n",
       "  </thead>\n",
       "  <tbody>\n",
       "    <tr>\n",
       "      <th>0</th>\n",
       "      <td>8101324</td>\n",
       "      <td>15669870</td>\n",
       "      <td>SSCEHNS</td>\n",
       "    </tr>\n",
       "    <tr>\n",
       "      <th>1</th>\n",
       "      <td>8101324</td>\n",
       "      <td>7580823</td>\n",
       "      <td>SSCEHNS</td>\n",
       "    </tr>\n",
       "    <tr>\n",
       "      <th>2</th>\n",
       "      <td>8101324</td>\n",
       "      <td>15669832</td>\n",
       "      <td>SSCEHNS</td>\n",
       "    </tr>\n",
       "    <tr>\n",
       "      <th>3</th>\n",
       "      <td>8101324</td>\n",
       "      <td>15669767</td>\n",
       "      <td>SSCEHNS</td>\n",
       "    </tr>\n",
       "    <tr>\n",
       "      <th>4</th>\n",
       "      <td>8101324</td>\n",
       "      <td>15669775</td>\n",
       "      <td>SSCEHNS</td>\n",
       "    </tr>\n",
       "    <tr>\n",
       "      <th>...</th>\n",
       "      <td>...</td>\n",
       "      <td>...</td>\n",
       "      <td>...</td>\n",
       "    </tr>\n",
       "    <tr>\n",
       "      <th>825</th>\n",
       "      <td>7737427</td>\n",
       "      <td>7590866</td>\n",
       "      <td>SWRNESE</td>\n",
       "    </tr>\n",
       "    <tr>\n",
       "      <th>826</th>\n",
       "      <td>7737427</td>\n",
       "      <td>7689353</td>\n",
       "      <td>SWRNESE</td>\n",
       "    </tr>\n",
       "    <tr>\n",
       "      <th>827</th>\n",
       "      <td>7737427</td>\n",
       "      <td>92388167</td>\n",
       "      <td>SWRNESE</td>\n",
       "    </tr>\n",
       "    <tr>\n",
       "      <th>828</th>\n",
       "      <td>7737427</td>\n",
       "      <td>34990774</td>\n",
       "      <td>SWRNESE</td>\n",
       "    </tr>\n",
       "    <tr>\n",
       "      <th>829</th>\n",
       "      <td>7737427</td>\n",
       "      <td>7590867</td>\n",
       "      <td>SWRNESE</td>\n",
       "    </tr>\n",
       "  </tbody>\n",
       "</table>\n",
       "<p>830 rows × 3 columns</p>\n",
       "</div>"
      ],
      "text/plain": [
       "       Order       SKU   Member\n",
       "0    8101324  15669870  SSCEHNS\n",
       "1    8101324   7580823  SSCEHNS\n",
       "2    8101324  15669832  SSCEHNS\n",
       "3    8101324  15669767  SSCEHNS\n",
       "4    8101324  15669775  SSCEHNS\n",
       "..       ...       ...      ...\n",
       "825  7737427   7590866  SWRNESE\n",
       "826  7737427   7689353  SWRNESE\n",
       "827  7737427  92388167  SWRNESE\n",
       "828  7737427  34990774  SWRNESE\n",
       "829  7737427   7590867  SWRNESE\n",
       "\n",
       "[830 rows x 3 columns]"
      ]
     },
     "execution_count": 39,
     "metadata": {},
     "output_type": "execute_result"
    }
   ],
   "source": [
    "recc_df"
   ]
  },
  {
   "cell_type": "code",
   "execution_count": null,
   "id": "a6bfe77f-7cae-4351-b6e2-3459b9b1c329",
   "metadata": {},
   "outputs": [],
   "source": []
  },
  {
   "cell_type": "markdown",
   "id": "033aed92-dac8-4cff-bd8d-24c4bb5fce7c",
   "metadata": {},
   "source": [
    "## Evaluation using Recall@5 Metric"
   ]
  },
  {
   "cell_type": "code",
   "execution_count": 40,
   "id": "a960004d-5b47-4e8f-8530-a8c2c226e35d",
   "metadata": {},
   "outputs": [
    {
     "data": {
      "text/html": [
       "<div>\n",
       "<style scoped>\n",
       "    .dataframe tbody tr th:only-of-type {\n",
       "        vertical-align: middle;\n",
       "    }\n",
       "\n",
       "    .dataframe tbody tr th {\n",
       "        vertical-align: top;\n",
       "    }\n",
       "\n",
       "    .dataframe thead th {\n",
       "        text-align: right;\n",
       "    }\n",
       "</style>\n",
       "<table border=\"1\" class=\"dataframe\">\n",
       "  <thead>\n",
       "    <tr style=\"text-align: right;\">\n",
       "      <th></th>\n",
       "      <th>Order</th>\n",
       "      <th>SKU</th>\n",
       "      <th>Member</th>\n",
       "      <th>Delivery Date</th>\n",
       "      <th>Name</th>\n",
       "    </tr>\n",
       "  </thead>\n",
       "  <tbody>\n",
       "    <tr>\n",
       "      <th>0</th>\n",
       "      <td>8101324</td>\n",
       "      <td>15668377</td>\n",
       "      <td>SSCEHNS</td>\n",
       "      <td>2014-03-15</td>\n",
       "      <td>Root Vegetables</td>\n",
       "    </tr>\n",
       "    <tr>\n",
       "      <th>1</th>\n",
       "      <td>8101324</td>\n",
       "      <td>15669778</td>\n",
       "      <td>SSCEHNS</td>\n",
       "      <td>2014-03-15</td>\n",
       "      <td>Other Dals</td>\n",
       "    </tr>\n",
       "    <tr>\n",
       "      <th>2</th>\n",
       "      <td>8101324</td>\n",
       "      <td>15669814</td>\n",
       "      <td>SSCEHNS</td>\n",
       "      <td>2014-03-15</td>\n",
       "      <td>Jaggery</td>\n",
       "    </tr>\n",
       "    <tr>\n",
       "      <th>3</th>\n",
       "      <td>8101324</td>\n",
       "      <td>15669865</td>\n",
       "      <td>SSCEHNS</td>\n",
       "      <td>2014-03-15</td>\n",
       "      <td>Other Dals</td>\n",
       "    </tr>\n",
       "    <tr>\n",
       "      <th>4</th>\n",
       "      <td>8101324</td>\n",
       "      <td>15669970</td>\n",
       "      <td>SSCEHNS</td>\n",
       "      <td>2014-03-15</td>\n",
       "      <td>Cashews</td>\n",
       "    </tr>\n",
       "  </tbody>\n",
       "</table>\n",
       "</div>"
      ],
      "text/plain": [
       "     Order       SKU   Member Delivery Date             Name\n",
       "0  8101324  15668377  SSCEHNS    2014-03-15  Root Vegetables\n",
       "1  8101324  15669778  SSCEHNS    2014-03-15       Other Dals\n",
       "2  8101324  15669814  SSCEHNS    2014-03-15          Jaggery\n",
       "3  8101324  15669865  SSCEHNS    2014-03-15       Other Dals\n",
       "4  8101324  15669970  SSCEHNS    2014-03-15          Cashews"
      ]
     },
     "execution_count": 40,
     "metadata": {},
     "output_type": "execute_result"
    }
   ],
   "source": [
    "forgotten_items_df = pd.read_csv(\"forgotten_items_df.csv\")\n",
    "forgotten_items_df.head()"
   ]
  },
  {
   "cell_type": "code",
   "execution_count": 41,
   "id": "d55f8eab-7364-4bc0-a0aa-6b14a3e6141b",
   "metadata": {},
   "outputs": [],
   "source": [
    "recall_list = list()\n",
    "\n",
    "for order in list(forgotten_items_df[\"Order\"].unique()):\n",
    "    forgotten_SKUs = forgotten_items_df[forgotten_items_df[\"Order\"] == order][\"SKU\"]\n",
    "    recc_SKUs = recc_df[recc_df[\"Order\"] == order][\"SKU\"]\n",
    "    recall = len(set(forgotten_SKUs).intersection(set(recc_SKUs)))/len(set(forgotten_SKUs))\n",
    "    recall_list.append(recall)"
   ]
  },
  {
   "cell_type": "code",
   "execution_count": 42,
   "id": "e1cf49bc-123a-43b2-9e8f-905561d21842",
   "metadata": {},
   "outputs": [
    {
     "data": {
      "text/plain": [
       "0.12650602409638553"
      ]
     },
     "execution_count": 42,
     "metadata": {},
     "output_type": "execute_result"
    }
   ],
   "source": [
    "np.mean(recall_list)"
   ]
  },
  {
   "cell_type": "markdown",
   "id": "fc98d62a-f352-4350-8177-fdbbc58dff73",
   "metadata": {},
   "source": [
    "## Prepare Kaggle Submission"
   ]
  },
  {
   "cell_type": "markdown",
   "id": "a35ad8e0-2560-45d3-9190-afd17dab3895",
   "metadata": {},
   "source": [
    "### Fit best model"
   ]
  },
  {
   "cell_type": "code",
   "execution_count": 27,
   "id": "4ec3226e-3a39-487c-a360-661f93100db3",
   "metadata": {},
   "outputs": [
    {
     "data": {
      "text/html": [
       "<div>\n",
       "<style scoped>\n",
       "    .dataframe tbody tr th:only-of-type {\n",
       "        vertical-align: middle;\n",
       "    }\n",
       "\n",
       "    .dataframe tbody tr th {\n",
       "        vertical-align: top;\n",
       "    }\n",
       "\n",
       "    .dataframe thead th {\n",
       "        text-align: right;\n",
       "    }\n",
       "</style>\n",
       "<table border=\"1\" class=\"dataframe\">\n",
       "  <thead>\n",
       "    <tr style=\"text-align: right;\">\n",
       "      <th></th>\n",
       "      <th>Member</th>\n",
       "      <th>SKU</th>\n",
       "      <th>frequency</th>\n",
       "    </tr>\n",
       "  </thead>\n",
       "  <tbody>\n",
       "    <tr>\n",
       "      <th>0</th>\n",
       "      <td>SSCEHNS</td>\n",
       "      <td>7580823</td>\n",
       "      <td>7</td>\n",
       "    </tr>\n",
       "    <tr>\n",
       "      <th>1</th>\n",
       "      <td>SSCEHNS</td>\n",
       "      <td>15668377</td>\n",
       "      <td>7</td>\n",
       "    </tr>\n",
       "    <tr>\n",
       "      <th>2</th>\n",
       "      <td>SSCEHNS</td>\n",
       "      <td>15669865</td>\n",
       "      <td>7</td>\n",
       "    </tr>\n",
       "    <tr>\n",
       "      <th>3</th>\n",
       "      <td>SSCEHNS</td>\n",
       "      <td>15669772</td>\n",
       "      <td>6</td>\n",
       "    </tr>\n",
       "    <tr>\n",
       "      <th>4</th>\n",
       "      <td>SSCEHNS</td>\n",
       "      <td>15669970</td>\n",
       "      <td>6</td>\n",
       "    </tr>\n",
       "  </tbody>\n",
       "</table>\n",
       "</div>"
      ],
      "text/plain": [
       "    Member       SKU  frequency\n",
       "0  SSCEHNS   7580823          7\n",
       "1  SSCEHNS  15668377          7\n",
       "2  SSCEHNS  15669865          7\n",
       "3  SSCEHNS  15669772          6\n",
       "4  SSCEHNS  15669970          6"
      ]
     },
     "execution_count": 27,
     "metadata": {},
     "output_type": "execute_result"
    }
   ],
   "source": [
    "sku_freq_df = df[[\"Member\", \"SKU\"]].groupby([\"Member\", \"SKU\"]) \\\n",
    "                .size() \\\n",
    "                .reset_index(name='frequency') \\\n",
    "                .sort_values(by = [\"Member\", \"frequency\"], ascending = [True, False]) \\\n",
    "                .reset_index(drop = True)\n",
    "\n",
    "sku_freq_df.head()"
   ]
  },
  {
   "cell_type": "code",
   "execution_count": 28,
   "id": "ad88ec75-c8cb-4ad9-b1f8-06089f530d41",
   "metadata": {},
   "outputs": [
    {
     "data": {
      "text/plain": [
       "<surprise.dataset.DatasetAutoFolds at 0x146ab1d10>"
      ]
     },
     "execution_count": 28,
     "metadata": {},
     "output_type": "execute_result"
    }
   ],
   "source": [
    "reader = Reader() \n",
    "data = Dataset.load_from_df(sku_freq_df[['Member', 'SKU', 'frequency']], reader)\n",
    "data"
   ]
  },
  {
   "cell_type": "code",
   "execution_count": 29,
   "id": "71048dd8-01f5-4845-af41-cc1f5ee66562",
   "metadata": {},
   "outputs": [],
   "source": [
    "trainset = data.build_full_trainset()"
   ]
  },
  {
   "cell_type": "code",
   "execution_count": 31,
   "id": "3387d8de-8a67-4180-b0aa-ca9956e68422",
   "metadata": {},
   "outputs": [
    {
     "data": {
      "text/plain": [
       "<surprise.prediction_algorithms.matrix_factorization.SVD at 0x146914690>"
      ]
     },
     "execution_count": 31,
     "metadata": {},
     "output_type": "execute_result"
    }
   ],
   "source": [
    "model.fit(trainset)"
   ]
  },
  {
   "cell_type": "markdown",
   "id": "31842966-6cf2-4b21-be88-eec459cf2237",
   "metadata": {},
   "source": [
    "### Generate Recommendations"
   ]
  },
  {
   "cell_type": "code",
   "execution_count": 32,
   "id": "3f067cbf-21f7-4dd8-921a-be97ef0af022",
   "metadata": {},
   "outputs": [],
   "source": [
    "sku_list = list(df[\"SKU\"].unique())\n",
    "recc_df = pd.DataFrame()\n",
    "\n",
    "for test_order in test_data[\"Order\"].unique():\n",
    "    test_order_df = test_data[test_data[\"Order\"] == test_order]\n",
    "    test_member = test_order_df[\"Member\"].unique()[0]\n",
    "    test_order_skus = set(test_order_df[\"SKU\"])\n",
    "    \n",
    "    sku_pred_list = list(set(sku_list) - test_order_skus)\n",
    "\n",
    "    pred_value_list = list()\n",
    "\n",
    "    for sku in sku_pred_list:\n",
    "        prediction = model.predict(uid = test_member, iid = sku)\n",
    "        pred_value_list.append(prediction.est)\n",
    "    \n",
    "    test_pred_df = pd.DataFrame({\"SKU\": sku_pred_list, \"prediction\": pred_value_list})\n",
    "    test_recc = test_pred_df.sort_values(\"prediction\", ascending = False).iloc[:5]\n",
    "    test_recc[\"Order\"] = test_order\n",
    "    test_recc[\"Member\"] = test_member\n",
    "    test_recc = test_recc[[\"Order\", \"SKU\", \"Member\"]]\n",
    "\n",
    "    recc_df = pd.concat([recc_df, test_recc], ignore_index = True)"
   ]
  },
  {
   "cell_type": "code",
   "execution_count": 33,
   "id": "59aa2056-0d5f-4a84-9547-8250e410451b",
   "metadata": {},
   "outputs": [
    {
     "data": {
      "text/plain": [
       "Order\n",
       "7409204    5\n",
       "8250969    5\n",
       "7727449    5\n",
       "8285456    5\n",
       "7517068    5\n",
       "          ..\n",
       "8077922    5\n",
       "7682148    5\n",
       "8374672    5\n",
       "8065270    5\n",
       "7682167    5\n",
       "Name: count, Length: 638, dtype: int64"
      ]
     },
     "execution_count": 33,
     "metadata": {},
     "output_type": "execute_result"
    }
   ],
   "source": [
    "recc_df[\"Order\"].value_counts()"
   ]
  },
  {
   "cell_type": "code",
   "execution_count": 34,
   "id": "1102d4a8-ac7b-4bfa-a76f-6d7e70ef432e",
   "metadata": {},
   "outputs": [
    {
     "data": {
      "text/html": [
       "<div>\n",
       "<style scoped>\n",
       "    .dataframe tbody tr th:only-of-type {\n",
       "        vertical-align: middle;\n",
       "    }\n",
       "\n",
       "    .dataframe tbody tr th {\n",
       "        vertical-align: top;\n",
       "    }\n",
       "\n",
       "    .dataframe thead th {\n",
       "        text-align: right;\n",
       "    }\n",
       "</style>\n",
       "<table border=\"1\" class=\"dataframe\">\n",
       "  <thead>\n",
       "    <tr style=\"text-align: right;\">\n",
       "      <th></th>\n",
       "      <th>Order</th>\n",
       "      <th>SKU</th>\n",
       "      <th>Member</th>\n",
       "    </tr>\n",
       "  </thead>\n",
       "  <tbody>\n",
       "    <tr>\n",
       "      <th>0</th>\n",
       "      <td>7409204</td>\n",
       "      <td>15668465</td>\n",
       "      <td>SWLCNOE</td>\n",
       "    </tr>\n",
       "    <tr>\n",
       "      <th>1</th>\n",
       "      <td>7409204</td>\n",
       "      <td>15668594</td>\n",
       "      <td>SWLCNOE</td>\n",
       "    </tr>\n",
       "    <tr>\n",
       "      <th>2</th>\n",
       "      <td>7409204</td>\n",
       "      <td>15668381</td>\n",
       "      <td>SWLCNOE</td>\n",
       "    </tr>\n",
       "    <tr>\n",
       "      <th>3</th>\n",
       "      <td>7409204</td>\n",
       "      <td>15668449</td>\n",
       "      <td>SWLCNOE</td>\n",
       "    </tr>\n",
       "    <tr>\n",
       "      <th>4</th>\n",
       "      <td>7409204</td>\n",
       "      <td>15668494</td>\n",
       "      <td>SWLCNOE</td>\n",
       "    </tr>\n",
       "    <tr>\n",
       "      <th>...</th>\n",
       "      <td>...</td>\n",
       "      <td>...</td>\n",
       "      <td>...</td>\n",
       "    </tr>\n",
       "    <tr>\n",
       "      <th>3185</th>\n",
       "      <td>7682167</td>\n",
       "      <td>15669789</td>\n",
       "      <td>SWOSHSO</td>\n",
       "    </tr>\n",
       "    <tr>\n",
       "      <th>3186</th>\n",
       "      <td>7682167</td>\n",
       "      <td>7689353</td>\n",
       "      <td>SWOSHSO</td>\n",
       "    </tr>\n",
       "    <tr>\n",
       "      <th>3187</th>\n",
       "      <td>7682167</td>\n",
       "      <td>15668542</td>\n",
       "      <td>SWOSHSO</td>\n",
       "    </tr>\n",
       "    <tr>\n",
       "      <th>3188</th>\n",
       "      <td>7682167</td>\n",
       "      <td>15669872</td>\n",
       "      <td>SWOSHSO</td>\n",
       "    </tr>\n",
       "    <tr>\n",
       "      <th>3189</th>\n",
       "      <td>7682167</td>\n",
       "      <td>34990774</td>\n",
       "      <td>SWOSHSO</td>\n",
       "    </tr>\n",
       "  </tbody>\n",
       "</table>\n",
       "<p>3190 rows × 3 columns</p>\n",
       "</div>"
      ],
      "text/plain": [
       "        Order       SKU   Member\n",
       "0     7409204  15668465  SWLCNOE\n",
       "1     7409204  15668594  SWLCNOE\n",
       "2     7409204  15668381  SWLCNOE\n",
       "3     7409204  15668449  SWLCNOE\n",
       "4     7409204  15668494  SWLCNOE\n",
       "...       ...       ...      ...\n",
       "3185  7682167  15669789  SWOSHSO\n",
       "3186  7682167   7689353  SWOSHSO\n",
       "3187  7682167  15668542  SWOSHSO\n",
       "3188  7682167  15669872  SWOSHSO\n",
       "3189  7682167  34990774  SWOSHSO\n",
       "\n",
       "[3190 rows x 3 columns]"
      ]
     },
     "execution_count": 34,
     "metadata": {},
     "output_type": "execute_result"
    }
   ],
   "source": [
    "recc_df.drop_duplicates(subset = [\"Order\", \"SKU\"])"
   ]
  },
  {
   "cell_type": "code",
   "execution_count": 35,
   "id": "868bcd9b-fa6f-4538-a9a8-419100939ad9",
   "metadata": {},
   "outputs": [
    {
     "data": {
      "text/html": [
       "<div>\n",
       "<style scoped>\n",
       "    .dataframe tbody tr th:only-of-type {\n",
       "        vertical-align: middle;\n",
       "    }\n",
       "\n",
       "    .dataframe tbody tr th {\n",
       "        vertical-align: top;\n",
       "    }\n",
       "\n",
       "    .dataframe thead th {\n",
       "        text-align: right;\n",
       "    }\n",
       "</style>\n",
       "<table border=\"1\" class=\"dataframe\">\n",
       "  <thead>\n",
       "    <tr style=\"text-align: right;\">\n",
       "      <th></th>\n",
       "      <th>ID</th>\n",
       "      <th>Order</th>\n",
       "      <th>SKU</th>\n",
       "      <th>Member</th>\n",
       "    </tr>\n",
       "  </thead>\n",
       "  <tbody>\n",
       "    <tr>\n",
       "      <th>0</th>\n",
       "      <td>1</td>\n",
       "      <td>7409204</td>\n",
       "      <td>15668465</td>\n",
       "      <td>SWLCNOE</td>\n",
       "    </tr>\n",
       "    <tr>\n",
       "      <th>1</th>\n",
       "      <td>2</td>\n",
       "      <td>7409204</td>\n",
       "      <td>15668594</td>\n",
       "      <td>SWLCNOE</td>\n",
       "    </tr>\n",
       "    <tr>\n",
       "      <th>2</th>\n",
       "      <td>3</td>\n",
       "      <td>7409204</td>\n",
       "      <td>15668381</td>\n",
       "      <td>SWLCNOE</td>\n",
       "    </tr>\n",
       "    <tr>\n",
       "      <th>3</th>\n",
       "      <td>4</td>\n",
       "      <td>7409204</td>\n",
       "      <td>15668449</td>\n",
       "      <td>SWLCNOE</td>\n",
       "    </tr>\n",
       "    <tr>\n",
       "      <th>4</th>\n",
       "      <td>5</td>\n",
       "      <td>7409204</td>\n",
       "      <td>15668494</td>\n",
       "      <td>SWLCNOE</td>\n",
       "    </tr>\n",
       "  </tbody>\n",
       "</table>\n",
       "</div>"
      ],
      "text/plain": [
       "   ID    Order       SKU   Member\n",
       "0   1  7409204  15668465  SWLCNOE\n",
       "1   2  7409204  15668594  SWLCNOE\n",
       "2   3  7409204  15668381  SWLCNOE\n",
       "3   4  7409204  15668449  SWLCNOE\n",
       "4   5  7409204  15668494  SWLCNOE"
      ]
     },
     "execution_count": 35,
     "metadata": {},
     "output_type": "execute_result"
    }
   ],
   "source": [
    "recc_df = recc_df[[\"Order\", \"SKU\", \"Member\"]].reset_index().rename(columns = {\"index\": \"ID\"})\n",
    "recc_df[\"ID\"] = recc_df[\"ID\"].apply(lambda x: x+1)\n",
    "recc_df.head()"
   ]
  },
  {
   "cell_type": "code",
   "execution_count": 36,
   "id": "34ddf59f-2c24-46fc-ac29-6972f4cf081e",
   "metadata": {},
   "outputs": [],
   "source": [
    "recc_df.to_csv(\"matrix_factorization_svd.csv\", index = False)"
   ]
  },
  {
   "cell_type": "code",
   "execution_count": null,
   "id": "a7789e70-f271-4e63-a901-ed7af88048bb",
   "metadata": {},
   "outputs": [],
   "source": []
  }
 ],
 "metadata": {
  "kernelspec": {
   "display_name": "Python 3 (ipykernel)",
   "language": "python",
   "name": "python3"
  },
  "language_info": {
   "codemirror_mode": {
    "name": "ipython",
    "version": 3
   },
   "file_extension": ".py",
   "mimetype": "text/x-python",
   "name": "python",
   "nbconvert_exporter": "python",
   "pygments_lexer": "ipython3",
   "version": "3.11.9"
  }
 },
 "nbformat": 4,
 "nbformat_minor": 5
}

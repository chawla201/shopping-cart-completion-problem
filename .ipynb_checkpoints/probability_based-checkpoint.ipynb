{
 "cells": [
  {
   "cell_type": "code",
   "execution_count": 1,
   "id": "f622e3e1-a67b-43dc-b569-71b17fac9bca",
   "metadata": {},
   "outputs": [],
   "source": [
    "import pandas as pd\n",
    "import numpy as np\n",
    "\n",
    "import itertools\n",
    "import math\n",
    "\n",
    "# from sklearn.model_selection import train_test_split\n",
    "from sklearn.metrics.pairwise import cosine_similarity, euclidean_distances, manhattan_distances\n",
    "from sklearn.preprocessing import MinMaxScaler, StandardScaler\n",
    "from sklearn.decomposition import PCA\n",
    "\n",
    "from surprise import SVD, Dataset, Reader\n",
    "from surprise.model_selection import train_test_split, GridSearchCV\n",
    "from surprise import accuracy\n",
    "\n",
    "import warnings\n",
    "warnings.filterwarnings(\"ignore\")"
   ]
  },
  {
   "cell_type": "code",
   "execution_count": 2,
   "id": "b7acdf00-9b80-470d-b9d5-337fc2ce7d5c",
   "metadata": {},
   "outputs": [
    {
     "name": "stdout",
     "output_type": "stream",
     "text": [
      "<class 'pandas.core.frame.DataFrame'>\n",
      "RangeIndex: 5487 entries, 0 to 5486\n",
      "Data columns (total 5 columns):\n",
      " #   Column         Non-Null Count  Dtype \n",
      "---  ------         --------------  ----- \n",
      " 0   Order          5487 non-null   int64 \n",
      " 1   SKU            5487 non-null   int64 \n",
      " 2   Member         5487 non-null   object\n",
      " 3   Delivery Date  5487 non-null   object\n",
      " 4   Name           5487 non-null   object\n",
      "dtypes: int64(2), object(3)\n",
      "memory usage: 214.5+ KB\n"
     ]
    }
   ],
   "source": [
    "test_data = pd.read_csv('last_orders_subset.csv')\n",
    "test_data.info()"
   ]
  },
  {
   "cell_type": "code",
   "execution_count": 3,
   "id": "ce012b23-9795-407c-9501-1adedc74f5a9",
   "metadata": {},
   "outputs": [
    {
     "name": "stdout",
     "output_type": "stream",
     "text": [
      "<class 'pandas.core.frame.DataFrame'>\n",
      "RangeIndex: 28984 entries, 0 to 28983\n",
      "Data columns (total 5 columns):\n",
      " #   Column         Non-Null Count  Dtype \n",
      "---  ------         --------------  ----- \n",
      " 0   Order          28984 non-null  int64 \n",
      " 1   SKU            28984 non-null  int64 \n",
      " 2   Member         28984 non-null  object\n",
      " 3   Delivery Date  28984 non-null  object\n",
      " 4   Name           28984 non-null  object\n",
      "dtypes: int64(2), object(3)\n",
      "memory usage: 1.1+ MB\n"
     ]
    }
   ],
   "source": [
    "df = pd.read_csv('all_except_last_orders.csv')\n",
    "df.info()"
   ]
  },
  {
   "cell_type": "code",
   "execution_count": 4,
   "id": "4046e83c-59fe-471a-a05f-4bf4a27572a8",
   "metadata": {},
   "outputs": [],
   "source": [
    "df['Delivery Date'] = pd.to_datetime(df['Delivery Date'], dayfirst = True)"
   ]
  },
  {
   "cell_type": "markdown",
   "id": "bc1885bd-ebe0-4a6f-ab68-d07aa8112360",
   "metadata": {},
   "source": [
    "# Train Test Split\n",
    "\n",
    "The data is split into last orders (for members who have more than 5 orders) and all but last order.\n",
    "Previous orders are used to train the recommendation system and the last orders are used for testing."
   ]
  },
  {
   "cell_type": "markdown",
   "id": "f1211e1d-98ed-4dd2-8f95-8550153e9033",
   "metadata": {},
   "source": [
    "## Last Order per Member"
   ]
  },
  {
   "cell_type": "code",
   "execution_count": 23,
   "id": "92d7ee4e-f6cc-46aa-b4a4-d19555f33644",
   "metadata": {},
   "outputs": [
    {
     "data": {
      "text/html": [
       "<div>\n",
       "<style scoped>\n",
       "    .dataframe tbody tr th:only-of-type {\n",
       "        vertical-align: middle;\n",
       "    }\n",
       "\n",
       "    .dataframe tbody tr th {\n",
       "        vertical-align: top;\n",
       "    }\n",
       "\n",
       "    .dataframe thead th {\n",
       "        text-align: right;\n",
       "    }\n",
       "</style>\n",
       "<table border=\"1\" class=\"dataframe\">\n",
       "  <thead>\n",
       "    <tr style=\"text-align: right;\">\n",
       "      <th></th>\n",
       "      <th>Order</th>\n",
       "      <th>SKU</th>\n",
       "      <th>Member</th>\n",
       "      <th>Delivery Date</th>\n",
       "      <th>Name</th>\n",
       "    </tr>\n",
       "  </thead>\n",
       "  <tbody>\n",
       "    <tr>\n",
       "      <th>0</th>\n",
       "      <td>8358896</td>\n",
       "      <td>15668375</td>\n",
       "      <td>SSCEHNS</td>\n",
       "      <td>2013-11-02</td>\n",
       "      <td>Root Vegetables</td>\n",
       "    </tr>\n",
       "    <tr>\n",
       "      <th>1</th>\n",
       "      <td>8358896</td>\n",
       "      <td>15668467</td>\n",
       "      <td>SSCEHNS</td>\n",
       "      <td>2013-11-02</td>\n",
       "      <td>Beans</td>\n",
       "    </tr>\n",
       "    <tr>\n",
       "      <th>2</th>\n",
       "      <td>8358896</td>\n",
       "      <td>15669863</td>\n",
       "      <td>SSCEHNS</td>\n",
       "      <td>2013-11-02</td>\n",
       "      <td>Moong Dal</td>\n",
       "    </tr>\n",
       "    <tr>\n",
       "      <th>3</th>\n",
       "      <td>8358896</td>\n",
       "      <td>15669778</td>\n",
       "      <td>SSCEHNS</td>\n",
       "      <td>2013-11-02</td>\n",
       "      <td>Other Dals</td>\n",
       "    </tr>\n",
       "    <tr>\n",
       "      <th>4</th>\n",
       "      <td>8358896</td>\n",
       "      <td>15669767</td>\n",
       "      <td>SSCEHNS</td>\n",
       "      <td>2013-11-02</td>\n",
       "      <td>Urad Dal</td>\n",
       "    </tr>\n",
       "  </tbody>\n",
       "</table>\n",
       "</div>"
      ],
      "text/plain": [
       "     Order       SKU   Member Delivery Date             Name\n",
       "0  8358896  15668375  SSCEHNS    2013-11-02  Root Vegetables\n",
       "1  8358896  15668467  SSCEHNS    2013-11-02            Beans\n",
       "2  8358896  15669863  SSCEHNS    2013-11-02        Moong Dal\n",
       "3  8358896  15669778  SSCEHNS    2013-11-02       Other Dals\n",
       "4  8358896  15669767  SSCEHNS    2013-11-02         Urad Dal"
      ]
     },
     "execution_count": 23,
     "metadata": {},
     "output_type": "execute_result"
    }
   ],
   "source": [
    "df.head()"
   ]
  },
  {
   "cell_type": "code",
   "execution_count": 24,
   "id": "f9ff54a1-510e-4506-9ae7-cfa1e6703b46",
   "metadata": {},
   "outputs": [
    {
     "data": {
      "text/plain": [
       "166"
      ]
     },
     "execution_count": 24,
     "metadata": {},
     "output_type": "execute_result"
    }
   ],
   "source": [
    "member_order_count = df[[\"Member\", \"Order\"]].drop_duplicates()[\"Member\"].value_counts().reset_index()\n",
    "members_with_more_than_5_orders = member_order_count[member_order_count[\"count\"] > 5][\"Member\"]\n",
    "len(members_with_more_than_5_orders)"
   ]
  },
  {
   "cell_type": "code",
   "execution_count": 25,
   "id": "0b181979-738a-49dd-9d4d-8fdbc3f1c18d",
   "metadata": {},
   "outputs": [],
   "source": [
    "last_orders = df[df[\"Member\"].isin(members_with_more_than_5_orders)][[\"Member\", \"Order\", \"Delivery Date\"]] \\\n",
    "                .drop_duplicates() \\\n",
    "                .sort_values([\"Order\", \"Delivery Date\"], ascending = [True, False]) \\\n",
    "                .drop_duplicates(subset = \"Member\") \\\n",
    "                .reset_index(drop = True)[\"Order\"]"
   ]
  },
  {
   "cell_type": "code",
   "execution_count": 26,
   "id": "ce292bbe-6d6d-47dc-80b3-f7e3ccccbf0c",
   "metadata": {},
   "outputs": [
    {
     "data": {
      "text/plain": [
       "166"
      ]
     },
     "execution_count": 26,
     "metadata": {},
     "output_type": "execute_result"
    }
   ],
   "source": [
    "len(last_orders)"
   ]
  },
  {
   "cell_type": "code",
   "execution_count": 27,
   "id": "13ecc05c-118d-46c8-8f04-bd98284afdca",
   "metadata": {},
   "outputs": [
    {
     "data": {
      "text/html": [
       "<div>\n",
       "<style scoped>\n",
       "    .dataframe tbody tr th:only-of-type {\n",
       "        vertical-align: middle;\n",
       "    }\n",
       "\n",
       "    .dataframe tbody tr th {\n",
       "        vertical-align: top;\n",
       "    }\n",
       "\n",
       "    .dataframe thead th {\n",
       "        text-align: right;\n",
       "    }\n",
       "</style>\n",
       "<table border=\"1\" class=\"dataframe\">\n",
       "  <thead>\n",
       "    <tr style=\"text-align: right;\">\n",
       "      <th></th>\n",
       "      <th>Order</th>\n",
       "      <th>SKU</th>\n",
       "      <th>Member</th>\n",
       "      <th>Delivery Date</th>\n",
       "      <th>Name</th>\n",
       "    </tr>\n",
       "  </thead>\n",
       "  <tbody>\n",
       "    <tr>\n",
       "      <th>0</th>\n",
       "      <td>8358896</td>\n",
       "      <td>15668375</td>\n",
       "      <td>SSCEHNS</td>\n",
       "      <td>2013-11-02</td>\n",
       "      <td>Root Vegetables</td>\n",
       "    </tr>\n",
       "    <tr>\n",
       "      <th>1</th>\n",
       "      <td>8358896</td>\n",
       "      <td>15668467</td>\n",
       "      <td>SSCEHNS</td>\n",
       "      <td>2013-11-02</td>\n",
       "      <td>Beans</td>\n",
       "    </tr>\n",
       "    <tr>\n",
       "      <th>2</th>\n",
       "      <td>8358896</td>\n",
       "      <td>15669863</td>\n",
       "      <td>SSCEHNS</td>\n",
       "      <td>2013-11-02</td>\n",
       "      <td>Moong Dal</td>\n",
       "    </tr>\n",
       "    <tr>\n",
       "      <th>3</th>\n",
       "      <td>8358896</td>\n",
       "      <td>15669778</td>\n",
       "      <td>SSCEHNS</td>\n",
       "      <td>2013-11-02</td>\n",
       "      <td>Other Dals</td>\n",
       "    </tr>\n",
       "    <tr>\n",
       "      <th>4</th>\n",
       "      <td>8358896</td>\n",
       "      <td>15669767</td>\n",
       "      <td>SSCEHNS</td>\n",
       "      <td>2013-11-02</td>\n",
       "      <td>Urad Dal</td>\n",
       "    </tr>\n",
       "  </tbody>\n",
       "</table>\n",
       "</div>"
      ],
      "text/plain": [
       "     Order       SKU   Member Delivery Date             Name\n",
       "0  8358896  15668375  SSCEHNS    2013-11-02  Root Vegetables\n",
       "1  8358896  15668467  SSCEHNS    2013-11-02            Beans\n",
       "2  8358896  15669863  SSCEHNS    2013-11-02        Moong Dal\n",
       "3  8358896  15669778  SSCEHNS    2013-11-02       Other Dals\n",
       "4  8358896  15669767  SSCEHNS    2013-11-02         Urad Dal"
      ]
     },
     "execution_count": 27,
     "metadata": {},
     "output_type": "execute_result"
    }
   ],
   "source": [
    "df_train = df[~df[\"Order\"].isin(last_orders)]\n",
    "df_train.head()"
   ]
  },
  {
   "cell_type": "code",
   "execution_count": 28,
   "id": "6089bca4-54ce-411c-89d8-1a662a6a14a1",
   "metadata": {},
   "outputs": [
    {
     "data": {
      "text/html": [
       "<div>\n",
       "<style scoped>\n",
       "    .dataframe tbody tr th:only-of-type {\n",
       "        vertical-align: middle;\n",
       "    }\n",
       "\n",
       "    .dataframe tbody tr th {\n",
       "        vertical-align: top;\n",
       "    }\n",
       "\n",
       "    .dataframe thead th {\n",
       "        text-align: right;\n",
       "    }\n",
       "</style>\n",
       "<table border=\"1\" class=\"dataframe\">\n",
       "  <thead>\n",
       "    <tr style=\"text-align: right;\">\n",
       "      <th></th>\n",
       "      <th>Order</th>\n",
       "      <th>SKU</th>\n",
       "      <th>Member</th>\n",
       "      <th>Delivery Date</th>\n",
       "      <th>Name</th>\n",
       "    </tr>\n",
       "  </thead>\n",
       "  <tbody>\n",
       "    <tr>\n",
       "      <th>94</th>\n",
       "      <td>8101324</td>\n",
       "      <td>15668377</td>\n",
       "      <td>SSCEHNS</td>\n",
       "      <td>2014-03-15</td>\n",
       "      <td>Root Vegetables</td>\n",
       "    </tr>\n",
       "    <tr>\n",
       "      <th>95</th>\n",
       "      <td>8101324</td>\n",
       "      <td>15668684</td>\n",
       "      <td>SSCEHNS</td>\n",
       "      <td>2014-03-15</td>\n",
       "      <td>Beans</td>\n",
       "    </tr>\n",
       "    <tr>\n",
       "      <th>96</th>\n",
       "      <td>8101324</td>\n",
       "      <td>15669778</td>\n",
       "      <td>SSCEHNS</td>\n",
       "      <td>2014-03-15</td>\n",
       "      <td>Other Dals</td>\n",
       "    </tr>\n",
       "    <tr>\n",
       "      <th>97</th>\n",
       "      <td>8101324</td>\n",
       "      <td>15668521</td>\n",
       "      <td>SSCEHNS</td>\n",
       "      <td>2014-03-15</td>\n",
       "      <td>Bread</td>\n",
       "    </tr>\n",
       "    <tr>\n",
       "      <th>98</th>\n",
       "      <td>8101324</td>\n",
       "      <td>15669865</td>\n",
       "      <td>SSCEHNS</td>\n",
       "      <td>2014-03-15</td>\n",
       "      <td>Other Dals</td>\n",
       "    </tr>\n",
       "  </tbody>\n",
       "</table>\n",
       "</div>"
      ],
      "text/plain": [
       "      Order       SKU   Member Delivery Date             Name\n",
       "94  8101324  15668377  SSCEHNS    2014-03-15  Root Vegetables\n",
       "95  8101324  15668684  SSCEHNS    2014-03-15            Beans\n",
       "96  8101324  15669778  SSCEHNS    2014-03-15       Other Dals\n",
       "97  8101324  15668521  SSCEHNS    2014-03-15            Bread\n",
       "98  8101324  15669865  SSCEHNS    2014-03-15       Other Dals"
      ]
     },
     "execution_count": 28,
     "metadata": {},
     "output_type": "execute_result"
    }
   ],
   "source": [
    "df_test = df[df[\"Order\"].isin(last_orders)]\n",
    "df_test.head()"
   ]
  },
  {
   "cell_type": "code",
   "execution_count": 29,
   "id": "db19b135-ddfe-4c3d-9b6b-704908da852c",
   "metadata": {},
   "outputs": [],
   "source": [
    "# df_train.to_csv(\"df_train.csv\", index = False)\n",
    "# df_test.to_csv(\"df_test.csv\", index = False)"
   ]
  },
  {
   "cell_type": "markdown",
   "id": "0e3366a8-2a4e-46e5-8bbd-f8969312cd73",
   "metadata": {},
   "source": [
    "## Simulating Forgotten Items"
   ]
  },
  {
   "cell_type": "code",
   "execution_count": 30,
   "id": "60bd007f-e9ab-400e-bdb9-72485a498807",
   "metadata": {},
   "outputs": [],
   "source": [
    "basket_list = list()\n",
    "forgotten_list = list()\n",
    "\n",
    "for order in df_test[\"Order\"].unique():\n",
    "    y_dummy = ['']*df_test[df_test[\"Order\"] == order].shape[0]\n",
    "    basket, forgotten, _, _ = train_test_split(df_test[df_test[\"Order\"] == order], y_dummy, test_size = 5, random_state = 101)\n",
    "    basket_list.append(basket)\n",
    "    forgotten_list.append(forgotten)\n",
    "\n",
    "test_basket_df = pd.concat(basket_list, ignore_index = True)\n",
    "forgotten_items_df = pd.concat(forgotten_list, ignore_index = True)"
   ]
  },
  {
   "cell_type": "code",
   "execution_count": 31,
   "id": "3b33b51e-b4c3-4847-8944-59b4b90f3d95",
   "metadata": {},
   "outputs": [
    {
     "data": {
      "text/plain": [
       "Order\n",
       "7362753    26\n",
       "7392553    20\n",
       "7566535    19\n",
       "7391877    16\n",
       "7428900    16\n",
       "           ..\n",
       "7453262     3\n",
       "7460103     3\n",
       "7513528     3\n",
       "7352666     3\n",
       "8101324     3\n",
       "Name: count, Length: 166, dtype: int64"
      ]
     },
     "execution_count": 31,
     "metadata": {},
     "output_type": "execute_result"
    }
   ],
   "source": [
    "test_basket_df[\"Order\"].value_counts()"
   ]
  },
  {
   "cell_type": "code",
   "execution_count": 32,
   "id": "4a4b05b5-a04d-401b-a408-a410c012c9cf",
   "metadata": {},
   "outputs": [
    {
     "data": {
      "text/plain": [
       "Order\n",
       "8101324    5\n",
       "7734044    5\n",
       "7585543    5\n",
       "7644998    5\n",
       "7770723    5\n",
       "          ..\n",
       "7370908    5\n",
       "7391877    5\n",
       "7360479    5\n",
       "7370657    5\n",
       "7737427    5\n",
       "Name: count, Length: 166, dtype: int64"
      ]
     },
     "execution_count": 32,
     "metadata": {},
     "output_type": "execute_result"
    }
   ],
   "source": [
    "forgotten_items_df[\"Order\"].value_counts()"
   ]
  },
  {
   "cell_type": "code",
   "execution_count": 33,
   "id": "84d35241-bd5c-472b-8cdb-36673d336b63",
   "metadata": {},
   "outputs": [],
   "source": [
    "# test_basket_df.to_csv(\"test_basket_df.csv\", index = False)\n",
    "# forgotten_items_df.to_csv(\"forgotten_items_df.csv\", index = False)"
   ]
  },
  {
   "cell_type": "markdown",
   "id": "61d14e9c-6216-4318-bf90-382993117079",
   "metadata": {},
   "source": [
    "# Probability Based Recommendation Engine"
   ]
  },
  {
   "cell_type": "markdown",
   "id": "521e37ee-36b4-47e8-86ed-5a08cb0e1343",
   "metadata": {},
   "source": [
    "## Co-occurence Matrix for Calculating Probabilites"
   ]
  },
  {
   "cell_type": "code",
   "execution_count": 50,
   "id": "7fe50fba-6b70-43b8-ac6a-bf18024701ec",
   "metadata": {},
   "outputs": [],
   "source": [
    "df_train = pd.read_csv(\"df_train.csv\")"
   ]
  },
  {
   "cell_type": "code",
   "execution_count": 51,
   "id": "a1688d25-9093-45e7-b3fe-8dfe572c8554",
   "metadata": {},
   "outputs": [
    {
     "data": {
      "text/plain": [
       "632"
      ]
     },
     "execution_count": 51,
     "metadata": {},
     "output_type": "execute_result"
    }
   ],
   "source": [
    "sku_list = list(df_train[\"SKU\"].unique())\n",
    "len(sku_list)"
   ]
  },
  {
   "cell_type": "code",
   "execution_count": 52,
   "id": "7c0f35bd-13df-4afc-ba3f-784afcdeda4e",
   "metadata": {
    "scrolled": true
   },
   "outputs": [
    {
     "data": {
      "text/html": [
       "<div>\n",
       "<style scoped>\n",
       "    .dataframe tbody tr th:only-of-type {\n",
       "        vertical-align: middle;\n",
       "    }\n",
       "\n",
       "    .dataframe tbody tr th {\n",
       "        vertical-align: top;\n",
       "    }\n",
       "\n",
       "    .dataframe thead th {\n",
       "        text-align: right;\n",
       "    }\n",
       "</style>\n",
       "<table border=\"1\" class=\"dataframe\">\n",
       "  <thead>\n",
       "    <tr style=\"text-align: right;\">\n",
       "      <th></th>\n",
       "      <th>15668375</th>\n",
       "      <th>15668467</th>\n",
       "      <th>15669863</th>\n",
       "      <th>15669778</th>\n",
       "      <th>15669767</th>\n",
       "      <th>15669832</th>\n",
       "      <th>15669772</th>\n",
       "      <th>15669970</th>\n",
       "      <th>15668478</th>\n",
       "      <th>15669861</th>\n",
       "      <th>...</th>\n",
       "      <th>7590868</th>\n",
       "      <th>15668382</th>\n",
       "      <th>7582051</th>\n",
       "      <th>7590866</th>\n",
       "      <th>7735524</th>\n",
       "      <th>15670172</th>\n",
       "      <th>7590864</th>\n",
       "      <th>92433757</th>\n",
       "      <th>92286348</th>\n",
       "      <th>7610713</th>\n",
       "    </tr>\n",
       "  </thead>\n",
       "  <tbody>\n",
       "    <tr>\n",
       "      <th>15668375</th>\n",
       "      <td>108.0</td>\n",
       "      <td>33.0</td>\n",
       "      <td>13.0</td>\n",
       "      <td>11.0</td>\n",
       "      <td>4.0</td>\n",
       "      <td>4.0</td>\n",
       "      <td>11.0</td>\n",
       "      <td>3.0</td>\n",
       "      <td>27.0</td>\n",
       "      <td>12.0</td>\n",
       "      <td>...</td>\n",
       "      <td>0.0</td>\n",
       "      <td>0.0</td>\n",
       "      <td>1.0</td>\n",
       "      <td>0.0</td>\n",
       "      <td>0.0</td>\n",
       "      <td>0.0</td>\n",
       "      <td>0.0</td>\n",
       "      <td>0.0</td>\n",
       "      <td>0.0</td>\n",
       "      <td>0.0</td>\n",
       "    </tr>\n",
       "    <tr>\n",
       "      <th>15668467</th>\n",
       "      <td>33.0</td>\n",
       "      <td>322.0</td>\n",
       "      <td>31.0</td>\n",
       "      <td>25.0</td>\n",
       "      <td>19.0</td>\n",
       "      <td>18.0</td>\n",
       "      <td>27.0</td>\n",
       "      <td>4.0</td>\n",
       "      <td>62.0</td>\n",
       "      <td>21.0</td>\n",
       "      <td>...</td>\n",
       "      <td>1.0</td>\n",
       "      <td>4.0</td>\n",
       "      <td>1.0</td>\n",
       "      <td>8.0</td>\n",
       "      <td>0.0</td>\n",
       "      <td>0.0</td>\n",
       "      <td>5.0</td>\n",
       "      <td>0.0</td>\n",
       "      <td>1.0</td>\n",
       "      <td>1.0</td>\n",
       "    </tr>\n",
       "    <tr>\n",
       "      <th>15669863</th>\n",
       "      <td>13.0</td>\n",
       "      <td>31.0</td>\n",
       "      <td>299.0</td>\n",
       "      <td>45.0</td>\n",
       "      <td>43.0</td>\n",
       "      <td>42.0</td>\n",
       "      <td>47.0</td>\n",
       "      <td>4.0</td>\n",
       "      <td>24.0</td>\n",
       "      <td>43.0</td>\n",
       "      <td>...</td>\n",
       "      <td>1.0</td>\n",
       "      <td>0.0</td>\n",
       "      <td>1.0</td>\n",
       "      <td>1.0</td>\n",
       "      <td>0.0</td>\n",
       "      <td>0.0</td>\n",
       "      <td>0.0</td>\n",
       "      <td>0.0</td>\n",
       "      <td>0.0</td>\n",
       "      <td>0.0</td>\n",
       "    </tr>\n",
       "    <tr>\n",
       "      <th>15669778</th>\n",
       "      <td>11.0</td>\n",
       "      <td>25.0</td>\n",
       "      <td>45.0</td>\n",
       "      <td>243.0</td>\n",
       "      <td>19.0</td>\n",
       "      <td>23.0</td>\n",
       "      <td>69.0</td>\n",
       "      <td>4.0</td>\n",
       "      <td>21.0</td>\n",
       "      <td>40.0</td>\n",
       "      <td>...</td>\n",
       "      <td>1.0</td>\n",
       "      <td>0.0</td>\n",
       "      <td>0.0</td>\n",
       "      <td>0.0</td>\n",
       "      <td>0.0</td>\n",
       "      <td>0.0</td>\n",
       "      <td>1.0</td>\n",
       "      <td>1.0</td>\n",
       "      <td>0.0</td>\n",
       "      <td>0.0</td>\n",
       "    </tr>\n",
       "    <tr>\n",
       "      <th>15669767</th>\n",
       "      <td>4.0</td>\n",
       "      <td>19.0</td>\n",
       "      <td>43.0</td>\n",
       "      <td>19.0</td>\n",
       "      <td>184.0</td>\n",
       "      <td>38.0</td>\n",
       "      <td>29.0</td>\n",
       "      <td>4.0</td>\n",
       "      <td>7.0</td>\n",
       "      <td>31.0</td>\n",
       "      <td>...</td>\n",
       "      <td>0.0</td>\n",
       "      <td>0.0</td>\n",
       "      <td>0.0</td>\n",
       "      <td>0.0</td>\n",
       "      <td>0.0</td>\n",
       "      <td>0.0</td>\n",
       "      <td>0.0</td>\n",
       "      <td>0.0</td>\n",
       "      <td>0.0</td>\n",
       "      <td>0.0</td>\n",
       "    </tr>\n",
       "  </tbody>\n",
       "</table>\n",
       "<p>5 rows × 632 columns</p>\n",
       "</div>"
      ],
      "text/plain": [
       "          15668375  15668467  15669863  15669778  15669767  15669832  \\\n",
       "15668375     108.0      33.0      13.0      11.0       4.0       4.0   \n",
       "15668467      33.0     322.0      31.0      25.0      19.0      18.0   \n",
       "15669863      13.0      31.0     299.0      45.0      43.0      42.0   \n",
       "15669778      11.0      25.0      45.0     243.0      19.0      23.0   \n",
       "15669767       4.0      19.0      43.0      19.0     184.0      38.0   \n",
       "\n",
       "          15669772  15669970  15668478  15669861  ...  7590868   15668382  \\\n",
       "15668375      11.0       3.0      27.0      12.0  ...       0.0       0.0   \n",
       "15668467      27.0       4.0      62.0      21.0  ...       1.0       4.0   \n",
       "15669863      47.0       4.0      24.0      43.0  ...       1.0       0.0   \n",
       "15669778      69.0       4.0      21.0      40.0  ...       1.0       0.0   \n",
       "15669767      29.0       4.0       7.0      31.0  ...       0.0       0.0   \n",
       "\n",
       "          7582051   7590866   7735524   15670172  7590864   92433757  \\\n",
       "15668375       1.0       0.0       0.0       0.0       0.0       0.0   \n",
       "15668467       1.0       8.0       0.0       0.0       5.0       0.0   \n",
       "15669863       1.0       1.0       0.0       0.0       0.0       0.0   \n",
       "15669778       0.0       0.0       0.0       0.0       1.0       1.0   \n",
       "15669767       0.0       0.0       0.0       0.0       0.0       0.0   \n",
       "\n",
       "          92286348  7610713   \n",
       "15668375       0.0       0.0  \n",
       "15668467       1.0       1.0  \n",
       "15669863       0.0       0.0  \n",
       "15669778       0.0       0.0  \n",
       "15669767       0.0       0.0  \n",
       "\n",
       "[5 rows x 632 columns]"
      ]
     },
     "execution_count": 52,
     "metadata": {},
     "output_type": "execute_result"
    }
   ],
   "source": [
    "pairs = list(itertools.combinations_with_replacement(sku_list, 2))\n",
    "\n",
    "s1_list = list()\n",
    "s2_list = list()\n",
    "cooccur_list = list()\n",
    "\n",
    "for s1, s2 in pairs:\n",
    "    s1_list.append(s1)\n",
    "    s2_list.append(s2)\n",
    "    \n",
    "    freq = len(set(df_train[df_train[\"SKU\"] == s1][\"Order\"]) \\\n",
    "               .intersection(set(df_train[df_train[\"SKU\"] == s2][\"Order\"]))\n",
    "              )\n",
    "    cooccur_list.append(freq)\n",
    "\n",
    "pairwise_cooccurrence = pd.DataFrame({\"SKU1\": s1_list, \"SKU2\": s2_list, \"cooccurrence_frequency\": cooccur_list})\n",
    "\n",
    "co_matrix = pd.DataFrame(np.zeros((len(sku_list), len(sku_list))), index=sku_list, columns=sku_list)\n",
    "\n",
    "for _, row in pairwise_cooccurrence.iterrows():\n",
    "    co_matrix.loc[row[\"SKU1\"], row[\"SKU2\"]] = row[\"cooccurrence_frequency\"]\n",
    "    co_matrix.loc[row[\"SKU2\"], row[\"SKU1\"]] = row[\"cooccurrence_frequency\"]\n",
    "\n",
    "co_matrix.head()"
   ]
  },
  {
   "cell_type": "markdown",
   "id": "c0d674ff-54ea-4cb6-b433-7575f473b7d9",
   "metadata": {},
   "source": [
    "## Test on df_test"
   ]
  },
  {
   "cell_type": "code",
   "execution_count": 53,
   "id": "3088d1d2-2920-4ea1-a082-f6ca059a529b",
   "metadata": {},
   "outputs": [
    {
     "data": {
      "text/html": [
       "<div>\n",
       "<style scoped>\n",
       "    .dataframe tbody tr th:only-of-type {\n",
       "        vertical-align: middle;\n",
       "    }\n",
       "\n",
       "    .dataframe tbody tr th {\n",
       "        vertical-align: top;\n",
       "    }\n",
       "\n",
       "    .dataframe thead th {\n",
       "        text-align: right;\n",
       "    }\n",
       "</style>\n",
       "<table border=\"1\" class=\"dataframe\">\n",
       "  <thead>\n",
       "    <tr style=\"text-align: right;\">\n",
       "      <th></th>\n",
       "      <th>Order</th>\n",
       "      <th>SKU</th>\n",
       "      <th>Member</th>\n",
       "      <th>Delivery Date</th>\n",
       "      <th>Name</th>\n",
       "    </tr>\n",
       "  </thead>\n",
       "  <tbody>\n",
       "    <tr>\n",
       "      <th>0</th>\n",
       "      <td>8101324</td>\n",
       "      <td>15668684</td>\n",
       "      <td>SSCEHNS</td>\n",
       "      <td>2014-03-15</td>\n",
       "      <td>Beans</td>\n",
       "    </tr>\n",
       "    <tr>\n",
       "      <th>1</th>\n",
       "      <td>8101324</td>\n",
       "      <td>15668521</td>\n",
       "      <td>SSCEHNS</td>\n",
       "      <td>2014-03-15</td>\n",
       "      <td>Bread</td>\n",
       "    </tr>\n",
       "    <tr>\n",
       "      <th>2</th>\n",
       "      <td>8101324</td>\n",
       "      <td>15669811</td>\n",
       "      <td>SSCEHNS</td>\n",
       "      <td>2014-03-15</td>\n",
       "      <td>Almonds</td>\n",
       "    </tr>\n",
       "    <tr>\n",
       "      <th>3</th>\n",
       "      <td>8203855</td>\n",
       "      <td>15669873</td>\n",
       "      <td>SSCHNCE</td>\n",
       "      <td>2014-02-03</td>\n",
       "      <td>Whole Spices</td>\n",
       "    </tr>\n",
       "    <tr>\n",
       "      <th>4</th>\n",
       "      <td>8203855</td>\n",
       "      <td>15669767</td>\n",
       "      <td>SSCHNCE</td>\n",
       "      <td>2014-02-03</td>\n",
       "      <td>Urad Dal</td>\n",
       "    </tr>\n",
       "  </tbody>\n",
       "</table>\n",
       "</div>"
      ],
      "text/plain": [
       "     Order       SKU   Member Delivery Date          Name\n",
       "0  8101324  15668684  SSCEHNS    2014-03-15         Beans\n",
       "1  8101324  15668521  SSCEHNS    2014-03-15         Bread\n",
       "2  8101324  15669811  SSCEHNS    2014-03-15       Almonds\n",
       "3  8203855  15669873  SSCHNCE    2014-02-03  Whole Spices\n",
       "4  8203855  15669767  SSCHNCE    2014-02-03      Urad Dal"
      ]
     },
     "execution_count": 53,
     "metadata": {},
     "output_type": "execute_result"
    }
   ],
   "source": [
    "test_basket_df = pd.read_csv(\"test_basket_df.csv\")\n",
    "test_basket_df.head()"
   ]
  },
  {
   "cell_type": "code",
   "execution_count": 54,
   "id": "ecb3278c-7a57-4683-a919-7fc0bb0d53d4",
   "metadata": {},
   "outputs": [],
   "source": [
    "recc_df = pd.DataFrame(columns = [\"Order\", \"SKU\", \"Member\"])\n",
    "\n",
    "for order in test_basket_df[\"Order\"].unique():\n",
    "    test_order = test_basket_df[test_basket_df[\"Order\"] == order]\n",
    "    prob_list = list()\n",
    "    for sku in sku_list:\n",
    "        cond_prob_list = list()\n",
    "        for basket_item in test_order[\"SKU\"]:\n",
    "            p = co_matrix.loc[sku, basket_item]/co_matrix.loc[basket_item, basket_item]\n",
    "            cond_prob_list.append(p)\n",
    "            # print(f\"sku: {sku}, basket_item: {basket_item}, probability: {p}\")\n",
    "        prob_list.append(math.prod(cond_prob_list))\n",
    "    \n",
    "    test_recc = pd.DataFrame({\"SKU\": sku_list, \"Probability\": prob_list})\n",
    "    \n",
    "    test_recc = test_recc.sort_values(\"Probability\", ascending = False).iloc[:5]\n",
    "    test_recc[\"Order\"] = order\n",
    "    test_recc[\"Member\"] = test_order[\"Member\"].unique()[0]\n",
    "    # test_recc = test_recc[[\"Order\", \"SKU\", \"Member\"]]\n",
    "\n",
    "    recc_df = pd.concat([recc_df, test_recc], ignore_index = True)"
   ]
  },
  {
   "cell_type": "code",
   "execution_count": 55,
   "id": "e8fc97df-875a-4031-ae7c-58f93f599d4f",
   "metadata": {},
   "outputs": [
    {
     "data": {
      "text/html": [
       "<div>\n",
       "<style scoped>\n",
       "    .dataframe tbody tr th:only-of-type {\n",
       "        vertical-align: middle;\n",
       "    }\n",
       "\n",
       "    .dataframe tbody tr th {\n",
       "        vertical-align: top;\n",
       "    }\n",
       "\n",
       "    .dataframe thead th {\n",
       "        text-align: right;\n",
       "    }\n",
       "</style>\n",
       "<table border=\"1\" class=\"dataframe\">\n",
       "  <thead>\n",
       "    <tr style=\"text-align: right;\">\n",
       "      <th></th>\n",
       "      <th>Order</th>\n",
       "      <th>SKU</th>\n",
       "      <th>Member</th>\n",
       "      <th>Probability</th>\n",
       "    </tr>\n",
       "  </thead>\n",
       "  <tbody>\n",
       "    <tr>\n",
       "      <th>0</th>\n",
       "      <td>8101324</td>\n",
       "      <td>15668381</td>\n",
       "      <td>SSCEHNS</td>\n",
       "      <td>0.010054</td>\n",
       "    </tr>\n",
       "    <tr>\n",
       "      <th>1</th>\n",
       "      <td>8101324</td>\n",
       "      <td>15668460</td>\n",
       "      <td>SSCEHNS</td>\n",
       "      <td>0.009763</td>\n",
       "    </tr>\n",
       "    <tr>\n",
       "      <th>2</th>\n",
       "      <td>8101324</td>\n",
       "      <td>15668379</td>\n",
       "      <td>SSCEHNS</td>\n",
       "      <td>0.009157</td>\n",
       "    </tr>\n",
       "    <tr>\n",
       "      <th>3</th>\n",
       "      <td>8101324</td>\n",
       "      <td>15669780</td>\n",
       "      <td>SSCEHNS</td>\n",
       "      <td>0.007631</td>\n",
       "    </tr>\n",
       "    <tr>\n",
       "      <th>4</th>\n",
       "      <td>8101324</td>\n",
       "      <td>15668688</td>\n",
       "      <td>SSCEHNS</td>\n",
       "      <td>0.005117</td>\n",
       "    </tr>\n",
       "  </tbody>\n",
       "</table>\n",
       "</div>"
      ],
      "text/plain": [
       "     Order       SKU   Member  Probability\n",
       "0  8101324  15668381  SSCEHNS     0.010054\n",
       "1  8101324  15668460  SSCEHNS     0.009763\n",
       "2  8101324  15668379  SSCEHNS     0.009157\n",
       "3  8101324  15669780  SSCEHNS     0.007631\n",
       "4  8101324  15668688  SSCEHNS     0.005117"
      ]
     },
     "execution_count": 55,
     "metadata": {},
     "output_type": "execute_result"
    }
   ],
   "source": [
    "recc_df.head()"
   ]
  },
  {
   "cell_type": "markdown",
   "id": "2739b22d-a136-47a9-8dd1-023a8ea48a19",
   "metadata": {},
   "source": [
    "## Evaluation using Recall@5 Metric"
   ]
  },
  {
   "cell_type": "code",
   "execution_count": 56,
   "id": "dfd3db5b-8e75-43a8-a3e8-e67bfbc894d7",
   "metadata": {},
   "outputs": [
    {
     "data": {
      "text/html": [
       "<div>\n",
       "<style scoped>\n",
       "    .dataframe tbody tr th:only-of-type {\n",
       "        vertical-align: middle;\n",
       "    }\n",
       "\n",
       "    .dataframe tbody tr th {\n",
       "        vertical-align: top;\n",
       "    }\n",
       "\n",
       "    .dataframe thead th {\n",
       "        text-align: right;\n",
       "    }\n",
       "</style>\n",
       "<table border=\"1\" class=\"dataframe\">\n",
       "  <thead>\n",
       "    <tr style=\"text-align: right;\">\n",
       "      <th></th>\n",
       "      <th>Order</th>\n",
       "      <th>SKU</th>\n",
       "      <th>Member</th>\n",
       "      <th>Delivery Date</th>\n",
       "      <th>Name</th>\n",
       "    </tr>\n",
       "  </thead>\n",
       "  <tbody>\n",
       "    <tr>\n",
       "      <th>0</th>\n",
       "      <td>8101324</td>\n",
       "      <td>15668377</td>\n",
       "      <td>SSCEHNS</td>\n",
       "      <td>2014-03-15</td>\n",
       "      <td>Root Vegetables</td>\n",
       "    </tr>\n",
       "    <tr>\n",
       "      <th>1</th>\n",
       "      <td>8101324</td>\n",
       "      <td>15669778</td>\n",
       "      <td>SSCEHNS</td>\n",
       "      <td>2014-03-15</td>\n",
       "      <td>Other Dals</td>\n",
       "    </tr>\n",
       "    <tr>\n",
       "      <th>2</th>\n",
       "      <td>8101324</td>\n",
       "      <td>15669814</td>\n",
       "      <td>SSCEHNS</td>\n",
       "      <td>2014-03-15</td>\n",
       "      <td>Jaggery</td>\n",
       "    </tr>\n",
       "    <tr>\n",
       "      <th>3</th>\n",
       "      <td>8101324</td>\n",
       "      <td>15669865</td>\n",
       "      <td>SSCEHNS</td>\n",
       "      <td>2014-03-15</td>\n",
       "      <td>Other Dals</td>\n",
       "    </tr>\n",
       "    <tr>\n",
       "      <th>4</th>\n",
       "      <td>8101324</td>\n",
       "      <td>15669970</td>\n",
       "      <td>SSCEHNS</td>\n",
       "      <td>2014-03-15</td>\n",
       "      <td>Cashews</td>\n",
       "    </tr>\n",
       "  </tbody>\n",
       "</table>\n",
       "</div>"
      ],
      "text/plain": [
       "     Order       SKU   Member Delivery Date             Name\n",
       "0  8101324  15668377  SSCEHNS    2014-03-15  Root Vegetables\n",
       "1  8101324  15669778  SSCEHNS    2014-03-15       Other Dals\n",
       "2  8101324  15669814  SSCEHNS    2014-03-15          Jaggery\n",
       "3  8101324  15669865  SSCEHNS    2014-03-15       Other Dals\n",
       "4  8101324  15669970  SSCEHNS    2014-03-15          Cashews"
      ]
     },
     "execution_count": 56,
     "metadata": {},
     "output_type": "execute_result"
    }
   ],
   "source": [
    "forgotten_items_df = pd.read_csv(\"forgotten_items_df.csv\")\n",
    "forgotten_items_df.head()"
   ]
  },
  {
   "cell_type": "code",
   "execution_count": 57,
   "id": "fe7d8531-c2fe-43e3-acdc-6e7e8fecae65",
   "metadata": {},
   "outputs": [],
   "source": [
    "recall_list = list()\n",
    "\n",
    "for order in list(forgotten_items_df[\"Order\"].unique()):\n",
    "    forgotten_SKUs = forgotten_items_df[forgotten_items_df[\"Order\"] == order][\"SKU\"]\n",
    "    recc_SKUs = recc_df[recc_df[\"Order\"] == order][\"SKU\"]\n",
    "    recall = len(set(forgotten_SKUs).intersection(set(recc_SKUs)))/len(set(forgotten_SKUs))\n",
    "    recall_list.append(recall)"
   ]
  },
  {
   "cell_type": "code",
   "execution_count": 58,
   "id": "4599c434-841b-4ede-842e-52195c136f73",
   "metadata": {},
   "outputs": [
    {
     "data": {
      "text/plain": [
       "0.11927710843373492"
      ]
     },
     "execution_count": 58,
     "metadata": {},
     "output_type": "execute_result"
    }
   ],
   "source": [
    "np.mean(recall_list)"
   ]
  },
  {
   "cell_type": "markdown",
   "id": "901f5aac-ca72-41c1-89f4-b16181312630",
   "metadata": {},
   "source": [
    "## Prepare Kaggle Submission    "
   ]
  },
  {
   "cell_type": "code",
   "execution_count": 59,
   "id": "8092aed4-65e1-4819-820c-6dc83f130b6c",
   "metadata": {},
   "outputs": [
    {
     "name": "stdout",
     "output_type": "stream",
     "text": [
      "CPU times: user 1min 1s, sys: 69.7 ms, total: 1min 1s\n",
      "Wall time: 1min 1s\n"
     ]
    }
   ],
   "source": [
    "%%time\n",
    "\n",
    "sku_list = list(df[\"SKU\"].unique())\n",
    "\n",
    "pairs = list(itertools.combinations_with_replacement(sku_list, 2))\n",
    "\n",
    "s1_list = list()\n",
    "s2_list = list()\n",
    "cooccur_list = list()\n",
    "\n",
    "for s1, s2 in pairs:\n",
    "    s1_list.append(s1)\n",
    "    s2_list.append(s2)\n",
    "    \n",
    "    freq = len(set(df[df[\"SKU\"] == s1][\"Order\"]) \\\n",
    "               .intersection(set(df[df[\"SKU\"] == s2][\"Order\"]))\n",
    "              )\n",
    "    cooccur_list.append(freq)\n",
    "\n",
    "pairwise_cooccurrence = pd.DataFrame({\"SKU1\": s1_list, \"SKU2\": s2_list, \"cooccurrence_frequency\": cooccur_list})\n",
    "\n",
    "co_matrix = pd.DataFrame(np.zeros((len(sku_list), len(sku_list))), index=sku_list, columns=sku_list)\n",
    "\n",
    "for _, row in pairwise_cooccurrence.iterrows():\n",
    "    co_matrix.loc[row[\"SKU1\"], row[\"SKU2\"]] = row[\"cooccurrence_frequency\"]\n",
    "    co_matrix.loc[row[\"SKU2\"], row[\"SKU1\"]] = row[\"cooccurrence_frequency\"]\n",
    "\n",
    "recc_df = pd.DataFrame(columns = [\"Order\", \"SKU\", \"Member\"])\n",
    "\n",
    "for order in test_data[\"Order\"].unique():\n",
    "    test_order = test_data[test_data[\"Order\"] == order]\n",
    "    prob_list = list()\n",
    "    for sku in sku_list:\n",
    "        try:\n",
    "            cond_prob_list = list()\n",
    "            for basket_item in test_order[\"SKU\"]:\n",
    "                p = co_matrix.loc[sku, basket_item]/co_matrix.loc[basket_item, basket_item]\n",
    "                cond_prob_list.append(p)\n",
    "                # print(f\"sku: {sku}, basket_item: {basket_item}, probability: {p}\")\n",
    "            prob_list.append(math.prod(cond_prob_list))\n",
    "        except:\n",
    "            prob_list.append(0)\n",
    "    test_recc = pd.DataFrame({\"SKU\": sku_list, \"Probability\": prob_list})\n",
    "    \n",
    "    test_recc = test_recc.sort_values(\"Probability\", ascending = False).iloc[:5]\n",
    "    test_recc[\"Order\"] = order\n",
    "    test_recc[\"Member\"] = test_order[\"Member\"].unique()[0]\n",
    "    # test_recc = test_recc[[\"Order\", \"SKU\", \"Member\"]]\n",
    "\n",
    "    recc_df = pd.concat([recc_df, test_recc], ignore_index = True)\n"
   ]
  },
  {
   "cell_type": "code",
   "execution_count": 60,
   "id": "384c59c1-099d-4de1-88e3-0aec71ca18ce",
   "metadata": {},
   "outputs": [
    {
     "data": {
      "text/html": [
       "<div>\n",
       "<style scoped>\n",
       "    .dataframe tbody tr th:only-of-type {\n",
       "        vertical-align: middle;\n",
       "    }\n",
       "\n",
       "    .dataframe tbody tr th {\n",
       "        vertical-align: top;\n",
       "    }\n",
       "\n",
       "    .dataframe thead th {\n",
       "        text-align: right;\n",
       "    }\n",
       "</style>\n",
       "<table border=\"1\" class=\"dataframe\">\n",
       "  <thead>\n",
       "    <tr style=\"text-align: right;\">\n",
       "      <th></th>\n",
       "      <th>ID</th>\n",
       "      <th>Order</th>\n",
       "      <th>SKU</th>\n",
       "      <th>Member</th>\n",
       "    </tr>\n",
       "  </thead>\n",
       "  <tbody>\n",
       "    <tr>\n",
       "      <th>0</th>\n",
       "      <td>1</td>\n",
       "      <td>7409204</td>\n",
       "      <td>15668379</td>\n",
       "      <td>SWLCNOE</td>\n",
       "    </tr>\n",
       "    <tr>\n",
       "      <th>1</th>\n",
       "      <td>2</td>\n",
       "      <td>7409204</td>\n",
       "      <td>15668688</td>\n",
       "      <td>SWLCNOE</td>\n",
       "    </tr>\n",
       "    <tr>\n",
       "      <th>2</th>\n",
       "      <td>3</td>\n",
       "      <td>7409204</td>\n",
       "      <td>15668460</td>\n",
       "      <td>SWLCNOE</td>\n",
       "    </tr>\n",
       "    <tr>\n",
       "      <th>3</th>\n",
       "      <td>4</td>\n",
       "      <td>7409204</td>\n",
       "      <td>15668381</td>\n",
       "      <td>SWLCNOE</td>\n",
       "    </tr>\n",
       "    <tr>\n",
       "      <th>4</th>\n",
       "      <td>5</td>\n",
       "      <td>7409204</td>\n",
       "      <td>15669878</td>\n",
       "      <td>SWLCNOE</td>\n",
       "    </tr>\n",
       "  </tbody>\n",
       "</table>\n",
       "</div>"
      ],
      "text/plain": [
       "   ID    Order       SKU   Member\n",
       "0   1  7409204  15668379  SWLCNOE\n",
       "1   2  7409204  15668688  SWLCNOE\n",
       "2   3  7409204  15668460  SWLCNOE\n",
       "3   4  7409204  15668381  SWLCNOE\n",
       "4   5  7409204  15669878  SWLCNOE"
      ]
     },
     "execution_count": 60,
     "metadata": {},
     "output_type": "execute_result"
    }
   ],
   "source": [
    "recc_df = recc_df[[\"Order\", \"SKU\", \"Member\"]].reset_index().rename(columns = {\"index\": \"ID\"})\n",
    "recc_df[\"ID\"] = recc_df[\"ID\"].apply(lambda x: x+1)\n",
    "recc_df.head()"
   ]
  },
  {
   "cell_type": "code",
   "execution_count": 61,
   "id": "f5913672-b83f-4ff8-9938-a95f7b26323a",
   "metadata": {},
   "outputs": [],
   "source": [
    "# recc_df.to_csv(\"probability_based_recc.csv\", index = False)"
   ]
  },
  {
   "cell_type": "code",
   "execution_count": null,
   "id": "6493d17e-8aa9-42ae-9756-6ace6dc4adae",
   "metadata": {},
   "outputs": [],
   "source": []
  }
 ],
 "metadata": {
  "kernelspec": {
   "display_name": "Python 3 (ipykernel)",
   "language": "python",
   "name": "python3"
  },
  "language_info": {
   "codemirror_mode": {
    "name": "ipython",
    "version": 3
   },
   "file_extension": ".py",
   "mimetype": "text/x-python",
   "name": "python",
   "nbconvert_exporter": "python",
   "pygments_lexer": "ipython3",
   "version": "3.11.9"
  }
 },
 "nbformat": 4,
 "nbformat_minor": 5
}

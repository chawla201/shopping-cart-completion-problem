{
  "nbformat": 4,
  "nbformat_minor": 0,
  "metadata": {
    "colab": {
      "private_outputs": true,
      "provenance": []
    },
    "kernelspec": {
      "name": "python3",
      "display_name": "Python 3"
    },
    "language_info": {
      "name": "python"
    }
  },
  "cells": [
    {
      "cell_type": "code",
      "source": [
        "!pip install implicit"
      ],
      "metadata": {
        "id": "4SRUHUHFMQnw"
      },
      "execution_count": null,
      "outputs": []
    },
    {
      "cell_type": "code",
      "source": [
        "import pandas as pd\n",
        "from scipy.sparse import coo_matrix\n",
        "from implicit.nearest_neighbours import ItemItemRecommender\n",
        "from collections import defaultdict, Counter\n",
        "\n",
        "# === 1. Load Datasets ===\n",
        "all_orders = pd.read_csv('all_except_last_orders.csv')\n",
        "last_orders = pd.read_csv('last_orders_subset.csv')\n",
        "\n",
        "# Ensure consistent types\n",
        "all_orders['SKU'] = all_orders['SKU'].astype(str)\n",
        "last_orders['SKU'] = last_orders['SKU'].astype(str)\n",
        "\n",
        "# === 2. Create ID Mappings ===\n",
        "user_ids = all_orders['Member'].unique().tolist()\n",
        "item_ids = all_orders['SKU'].unique().tolist()\n",
        "\n",
        "user_id_map = {u: i for i, u in enumerate(user_ids)}\n",
        "item_id_map = {i: j for j, i in enumerate(item_ids)}\n",
        "rev_item_id_map = {j: i for i, j in item_id_map.items()}\n",
        "\n",
        "# Add numeric indices\n",
        "all_orders['user_idx'] = all_orders['Member'].map(user_id_map)\n",
        "all_orders['item_idx'] = all_orders['SKU'].map(item_id_map)\n",
        "\n",
        "# === 3. Build User-Item Matrix ===\n",
        "data = all_orders.groupby(['user_idx', 'item_idx']).size().reset_index(name='count')\n",
        "user_item_matrix = coo_matrix((data['count'], (data['item_idx'], data['user_idx'])), dtype='float64')\n",
        "\n",
        "# === 4. Train Item-Item Collaborative Filtering Model ===\n",
        "model = ItemItemRecommender(K=20)\n",
        "model.fit(user_item_matrix)\n",
        "\n",
        "# === 5. Build Global Popularity Fallback ===\n",
        "popular_items = all_orders['SKU'].value_counts()\n",
        "fallback_items = [item_id_map[sku] for sku in popular_items.index if sku in item_id_map]\n",
        "\n",
        "# === 6. Generate Recommendations ===\n",
        "recommendations = []\n",
        "for (member, order), group in last_orders.groupby(['Member', 'Order']):\n",
        "    skus = group['SKU'].tolist()\n",
        "    user_idx = user_id_map.get(member)\n",
        "\n",
        "    # Map known SKUs to idx\n",
        "    known_item_idxs = [item_id_map.get(sku) for sku in skus if sku in item_id_map]\n",
        "\n",
        "    score_dict = defaultdict(float)\n",
        "    for item_idx in known_item_idxs:\n",
        "        try:\n",
        "            similar_items = model.similar_items(item_idx, N=20)\n",
        "            # Add a check to ensure similar_items is a list of tuples with 2 elements\n",
        "            if isinstance(similar_items, list) and all(isinstance(rec, tuple) and len(rec) == 2 for rec in similar_items):\n",
        "                for sim_idx, score in similar_items:\n",
        "                    if sim_idx not in known_item_idxs:\n",
        "                        score_dict[sim_idx] += score\n",
        "        except KeyError:\n",
        "            continue\n",
        "\n",
        "    # Sort scores and filter top 5\n",
        "    sorted_items = [item for item, _ in sorted(score_dict.items(), key=lambda x: -x[1])]\n",
        "\n",
        "    # Fallback if < 5\n",
        "    i = 0\n",
        "    while len(sorted_items) < 5 and i < len(fallback_items):\n",
        "        f_item = fallback_items[i]\n",
        "        if f_item not in known_item_idxs and f_item not in sorted_items:\n",
        "            sorted_items.append(f_item)\n",
        "        i += 1\n",
        "\n",
        "    # Ensure exactly 5 recommendations\n",
        "    top5 = sorted_items[:5]\n",
        "\n",
        "    for rec_item_idx in top5:\n",
        "        recommendations.append({\n",
        "            'Member': member,\n",
        "            'Order': order,\n",
        "            'SKU': rev_item_id_map[rec_item_idx]\n",
        "        })\n",
        "\n",
        "# === 7. Save Output ===\n",
        "rec_df = pd.DataFrame(recommendations)\n",
        "assert rec_df.groupby(['Member', 'Order']).size().min() == 5, \"Each order must have 5 SKUs\"\n",
        "\n",
        "\n",
        "rec_df.head()"
      ],
      "metadata": {
        "id": "179qA5D9ucS7"
      },
      "execution_count": null,
      "outputs": []
    },
    {
      "cell_type": "code",
      "source": [],
      "metadata": {
        "id": "wvAuuOOWDlf-"
      },
      "execution_count": null,
      "outputs": []
    }
  ]
}